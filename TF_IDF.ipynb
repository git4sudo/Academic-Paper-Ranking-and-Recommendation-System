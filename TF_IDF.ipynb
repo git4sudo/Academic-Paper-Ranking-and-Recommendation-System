{
  "cells": [
    {
      "cell_type": "code",
      "execution_count": null,
      "metadata": {
        "_cell_guid": "b1076dfc-b9ad-4769-8c92-a6c4dae69d19",
        "_uuid": "8f2839f25d086af736a60e9eeb907d3b93b6e0e5",
        "execution": {
          "iopub.execute_input": "2022-12-13T03:41:47.380952Z",
          "iopub.status.busy": "2022-12-13T03:41:47.380428Z",
          "iopub.status.idle": "2022-12-13T03:41:48.817269Z",
          "shell.execute_reply": "2022-12-13T03:41:48.815888Z",
          "shell.execute_reply.started": "2022-12-13T03:41:47.380905Z"
        },
        "id": "HYDzy7dXABcD"
      },
      "outputs": [],
      "source": [
        "import numpy as np\n",
        "import pandas as pd\n",
        "import json\n",
        "from nltk.corpus import stopwords\n",
        "import nltk\n",
        "import re\n",
        "from sklearn.feature_extraction.text import TfidfVectorizer\n",
        "from sklearn.metrics.pairwise import cosine_similarity\n",
        "from sklearn.metrics.pairwise import euclidean_distances\n",
        "#from collections import Counter"
      ]
    },
    {
      "cell_type": "code",
      "execution_count": null,
      "metadata": {
        "execution": {
          "iopub.execute_input": "2022-12-13T03:41:48.819884Z",
          "iopub.status.busy": "2022-12-13T03:41:48.819489Z",
          "iopub.status.idle": "2022-12-13T03:43:40.389192Z",
          "shell.execute_reply": "2022-12-13T03:43:40.387586Z",
          "shell.execute_reply.started": "2022-12-13T03:41:48.819848Z"
        },
        "id": "GUblSq-mABcL"
      },
      "outputs": [],
      "source": [
        "data = []\n",
        "for line in open('arxiv-metadata-oai-snapshot.json', 'r'):\n",
        "    data.append(json.loads(line))\n",
        "df = pd.DataFrame.from_records(data)"
      ]
    },
    {
      "cell_type": "code",
      "execution_count": null,
      "metadata": {
        "execution": {
          "iopub.execute_input": "2022-12-13T03:43:40.391611Z",
          "iopub.status.busy": "2022-12-13T03:43:40.390924Z",
          "iopub.status.idle": "2022-12-13T03:43:40.448840Z",
          "shell.execute_reply": "2022-12-13T03:43:40.447296Z",
          "shell.execute_reply.started": "2022-12-13T03:43:40.391568Z"
        },
        "id": "32bgkGbBABcN",
        "outputId": "ea1d6b56-907d-4487-ca7c-bdcbbd871035"
      },
      "outputs": [
        {
          "data": {
            "text/html": [
              "<div>\n",
              "<style scoped>\n",
              "    .dataframe tbody tr th:only-of-type {\n",
              "        vertical-align: middle;\n",
              "    }\n",
              "\n",
              "    .dataframe tbody tr th {\n",
              "        vertical-align: top;\n",
              "    }\n",
              "\n",
              "    .dataframe thead th {\n",
              "        text-align: right;\n",
              "    }\n",
              "</style>\n",
              "<table border=\"1\" class=\"dataframe\">\n",
              "  <thead>\n",
              "    <tr style=\"text-align: right;\">\n",
              "      <th></th>\n",
              "      <th>id</th>\n",
              "      <th>submitter</th>\n",
              "      <th>authors</th>\n",
              "      <th>title</th>\n",
              "      <th>comments</th>\n",
              "      <th>journal-ref</th>\n",
              "      <th>doi</th>\n",
              "      <th>abstract</th>\n",
              "      <th>report-no</th>\n",
              "      <th>categories</th>\n",
              "      <th>versions</th>\n",
              "    </tr>\n",
              "  </thead>\n",
              "  <tbody>\n",
              "    <tr>\n",
              "      <th>0</th>\n",
              "      <td>0704.0001</td>\n",
              "      <td>Pavel Nadolsky</td>\n",
              "      <td>C. Bal\\'azs, E. L. Berger, P. M. Nadolsky, C.-...</td>\n",
              "      <td>Calculation of prompt diphoton production cros...</td>\n",
              "      <td>37 pages, 15 figures; published version</td>\n",
              "      <td>Phys.Rev.D76:013009,2007</td>\n",
              "      <td>10.1103/PhysRevD.76.013009</td>\n",
              "      <td>A fully differential calculation in perturba...</td>\n",
              "      <td>ANL-HEP-PR-07-12</td>\n",
              "      <td>[hep-ph]</td>\n",
              "      <td>[v1, v2]</td>\n",
              "    </tr>\n",
              "    <tr>\n",
              "      <th>1</th>\n",
              "      <td>0704.0002</td>\n",
              "      <td>Louis Theran</td>\n",
              "      <td>Ileana Streinu and Louis Theran</td>\n",
              "      <td>Sparsity-certifying Graph Decompositions</td>\n",
              "      <td>To appear in Graphs and Combinatorics</td>\n",
              "      <td>None</td>\n",
              "      <td>None</td>\n",
              "      <td>We describe a new algorithm, the $(k,\\ell)$-...</td>\n",
              "      <td>None</td>\n",
              "      <td>[math.CO cs.CG]</td>\n",
              "      <td>[v1, v2]</td>\n",
              "    </tr>\n",
              "    <tr>\n",
              "      <th>2</th>\n",
              "      <td>0704.0003</td>\n",
              "      <td>Hongjun Pan</td>\n",
              "      <td>Hongjun Pan</td>\n",
              "      <td>The evolution of the Earth-Moon system based o...</td>\n",
              "      <td>23 pages, 3 figures</td>\n",
              "      <td>None</td>\n",
              "      <td>None</td>\n",
              "      <td>The evolution of Earth-Moon system is descri...</td>\n",
              "      <td>None</td>\n",
              "      <td>[physics.gen-ph]</td>\n",
              "      <td>[v1, v2, v3]</td>\n",
              "    </tr>\n",
              "    <tr>\n",
              "      <th>3</th>\n",
              "      <td>0704.0004</td>\n",
              "      <td>David Callan</td>\n",
              "      <td>David Callan</td>\n",
              "      <td>A determinant of Stirling cycle numbers counts...</td>\n",
              "      <td>11 pages</td>\n",
              "      <td>None</td>\n",
              "      <td>None</td>\n",
              "      <td>We show that a determinant of Stirling cycle...</td>\n",
              "      <td>None</td>\n",
              "      <td>[math.CO]</td>\n",
              "      <td>[v1]</td>\n",
              "    </tr>\n",
              "    <tr>\n",
              "      <th>4</th>\n",
              "      <td>0704.0005</td>\n",
              "      <td>Alberto Torchinsky</td>\n",
              "      <td>Wael Abu-Shammala and Alberto Torchinsky</td>\n",
              "      <td>From dyadic $\\Lambda_{\\alpha}$ to $\\Lambda_{\\a...</td>\n",
              "      <td>None</td>\n",
              "      <td>Illinois J. Math. 52 (2008) no.2, 681-689</td>\n",
              "      <td>None</td>\n",
              "      <td>In this paper we show how to compute the $\\L...</td>\n",
              "      <td>None</td>\n",
              "      <td>[math.CA math.FA]</td>\n",
              "      <td>[v1]</td>\n",
              "    </tr>\n",
              "    <tr>\n",
              "      <th>...</th>\n",
              "      <td>...</td>\n",
              "      <td>...</td>\n",
              "      <td>...</td>\n",
              "      <td>...</td>\n",
              "      <td>...</td>\n",
              "      <td>...</td>\n",
              "      <td>...</td>\n",
              "      <td>...</td>\n",
              "      <td>...</td>\n",
              "      <td>...</td>\n",
              "      <td>...</td>\n",
              "    </tr>\n",
              "    <tr>\n",
              "      <th>3360979</th>\n",
              "      <td>supr-con/9608008</td>\n",
              "      <td>Ruslan Prozorov</td>\n",
              "      <td>R. Prozorov, M. Konczykowski, B. Schmidt, Y. Y...</td>\n",
              "      <td>On the origin of the irreversibility line in t...</td>\n",
              "      <td>19 pages, LaTex, 6 PostScript figures; Author'...</td>\n",
              "      <td>None</td>\n",
              "      <td>10.1103/PhysRevB.54.15530</td>\n",
              "      <td>We report on measurements of the angular dep...</td>\n",
              "      <td>None</td>\n",
              "      <td>[supr-con cond-mat.supr-con]</td>\n",
              "      <td>[v1]</td>\n",
              "    </tr>\n",
              "    <tr>\n",
              "      <th>3360980</th>\n",
              "      <td>supr-con/9609001</td>\n",
              "      <td>Durga P. Choudhury</td>\n",
              "      <td>Durga P. Choudhury, Balam A. Willemsen, John S...</td>\n",
              "      <td>Nonlinear Response of HTSC Thin Film Microwave...</td>\n",
              "      <td>4 pages, LaTeX type, Uses IEEE style files, 60...</td>\n",
              "      <td>None</td>\n",
              "      <td>10.1109/77.620744</td>\n",
              "      <td>The non-linear microwave surface impedance o...</td>\n",
              "      <td>None</td>\n",
              "      <td>[supr-con cond-mat.supr-con]</td>\n",
              "      <td>[v1]</td>\n",
              "    </tr>\n",
              "    <tr>\n",
              "      <th>3360981</th>\n",
              "      <td>supr-con/9609002</td>\n",
              "      <td>Durga P. Choudhury</td>\n",
              "      <td>Balam A. Willemsen, J. S. Derov and S.Sridhar ...</td>\n",
              "      <td>Critical State Flux Penetration and Linear Mic...</td>\n",
              "      <td>20 pages, LaTeX type, Uses REVTeX style files,...</td>\n",
              "      <td>None</td>\n",
              "      <td>10.1103/PhysRevB.56.11989</td>\n",
              "      <td>The vortex contribution to the dc field (H) ...</td>\n",
              "      <td>None</td>\n",
              "      <td>[supr-con cond-mat.supr-con]</td>\n",
              "      <td>[v1]</td>\n",
              "    </tr>\n",
              "    <tr>\n",
              "      <th>3360982</th>\n",
              "      <td>supr-con/9609003</td>\n",
              "      <td>Hasegawa Yasumasa</td>\n",
              "      <td>Yasumasa Hasegawa (Himeji Institute of Technol...</td>\n",
              "      <td>Density of States and NMR Relaxation Rate in A...</td>\n",
              "      <td>7 pages, 4 PostScript Figures, LaTeX, to appea...</td>\n",
              "      <td>None</td>\n",
              "      <td>10.1143/JPSJ.65.3131</td>\n",
              "      <td>We show that the density of states in an ani...</td>\n",
              "      <td>None</td>\n",
              "      <td>[supr-con cond-mat.supr-con]</td>\n",
              "      <td>[v1]</td>\n",
              "    </tr>\n",
              "    <tr>\n",
              "      <th>3360983</th>\n",
              "      <td>supr-con/9609004</td>\n",
              "      <td>Masanori Ichioka</td>\n",
              "      <td>Naoki Enomoto, Masanori Ichioka and Kazushige ...</td>\n",
              "      <td>Ginzburg Landau theory for d-wave pairing and ...</td>\n",
              "      <td>12 pages including 8 eps figs, LaTeX with jpsj...</td>\n",
              "      <td>J. Phys. Soc. Jpn. 66, 204 (1997).</td>\n",
              "      <td>10.1143/JPSJ.66.204</td>\n",
              "      <td>The Ginzburg Landau theory for d_{x^2-y^2}-w...</td>\n",
              "      <td>None</td>\n",
              "      <td>[supr-con cond-mat.supr-con]</td>\n",
              "      <td>[v1]</td>\n",
              "    </tr>\n",
              "  </tbody>\n",
              "</table>\n",
              "<p>3360984 rows × 11 columns</p>\n",
              "</div>"
            ],
            "text/plain": [
              "                       id           submitter  \\\n",
              "0               0704.0001      Pavel Nadolsky   \n",
              "1               0704.0002        Louis Theran   \n",
              "2               0704.0003         Hongjun Pan   \n",
              "3               0704.0004        David Callan   \n",
              "4               0704.0005  Alberto Torchinsky   \n",
              "...                   ...                 ...   \n",
              "3360979  supr-con/9608008     Ruslan Prozorov   \n",
              "3360980  supr-con/9609001  Durga P. Choudhury   \n",
              "3360981  supr-con/9609002  Durga P. Choudhury   \n",
              "3360982  supr-con/9609003   Hasegawa Yasumasa   \n",
              "3360983  supr-con/9609004    Masanori Ichioka   \n",
              "\n",
              "                                                   authors  \\\n",
              "0        C. Bal\\'azs, E. L. Berger, P. M. Nadolsky, C.-...   \n",
              "1                          Ileana Streinu and Louis Theran   \n",
              "2                                              Hongjun Pan   \n",
              "3                                             David Callan   \n",
              "4                 Wael Abu-Shammala and Alberto Torchinsky   \n",
              "...                                                    ...   \n",
              "3360979  R. Prozorov, M. Konczykowski, B. Schmidt, Y. Y...   \n",
              "3360980  Durga P. Choudhury, Balam A. Willemsen, John S...   \n",
              "3360981  Balam A. Willemsen, J. S. Derov and S.Sridhar ...   \n",
              "3360982  Yasumasa Hasegawa (Himeji Institute of Technol...   \n",
              "3360983  Naoki Enomoto, Masanori Ichioka and Kazushige ...   \n",
              "\n",
              "                                                     title  \\\n",
              "0        Calculation of prompt diphoton production cros...   \n",
              "1                 Sparsity-certifying Graph Decompositions   \n",
              "2        The evolution of the Earth-Moon system based o...   \n",
              "3        A determinant of Stirling cycle numbers counts...   \n",
              "4        From dyadic $\\Lambda_{\\alpha}$ to $\\Lambda_{\\a...   \n",
              "...                                                    ...   \n",
              "3360979  On the origin of the irreversibility line in t...   \n",
              "3360980  Nonlinear Response of HTSC Thin Film Microwave...   \n",
              "3360981  Critical State Flux Penetration and Linear Mic...   \n",
              "3360982  Density of States and NMR Relaxation Rate in A...   \n",
              "3360983  Ginzburg Landau theory for d-wave pairing and ...   \n",
              "\n",
              "                                                  comments  \\\n",
              "0                  37 pages, 15 figures; published version   \n",
              "1                    To appear in Graphs and Combinatorics   \n",
              "2                                      23 pages, 3 figures   \n",
              "3                                                 11 pages   \n",
              "4                                                     None   \n",
              "...                                                    ...   \n",
              "3360979  19 pages, LaTex, 6 PostScript figures; Author'...   \n",
              "3360980  4 pages, LaTeX type, Uses IEEE style files, 60...   \n",
              "3360981  20 pages, LaTeX type, Uses REVTeX style files,...   \n",
              "3360982  7 pages, 4 PostScript Figures, LaTeX, to appea...   \n",
              "3360983  12 pages including 8 eps figs, LaTeX with jpsj...   \n",
              "\n",
              "                                       journal-ref  \\\n",
              "0                         Phys.Rev.D76:013009,2007   \n",
              "1                                             None   \n",
              "2                                             None   \n",
              "3                                             None   \n",
              "4        Illinois J. Math. 52 (2008) no.2, 681-689   \n",
              "...                                            ...   \n",
              "3360979                                       None   \n",
              "3360980                                       None   \n",
              "3360981                                       None   \n",
              "3360982                                       None   \n",
              "3360983         J. Phys. Soc. Jpn. 66, 204 (1997).   \n",
              "\n",
              "                                doi  \\\n",
              "0        10.1103/PhysRevD.76.013009   \n",
              "1                              None   \n",
              "2                              None   \n",
              "3                              None   \n",
              "4                              None   \n",
              "...                             ...   \n",
              "3360979   10.1103/PhysRevB.54.15530   \n",
              "3360980           10.1109/77.620744   \n",
              "3360981   10.1103/PhysRevB.56.11989   \n",
              "3360982        10.1143/JPSJ.65.3131   \n",
              "3360983         10.1143/JPSJ.66.204   \n",
              "\n",
              "                                                  abstract         report-no  \\\n",
              "0          A fully differential calculation in perturba...  ANL-HEP-PR-07-12   \n",
              "1          We describe a new algorithm, the $(k,\\ell)$-...              None   \n",
              "2          The evolution of Earth-Moon system is descri...              None   \n",
              "3          We show that a determinant of Stirling cycle...              None   \n",
              "4          In this paper we show how to compute the $\\L...              None   \n",
              "...                                                    ...               ...   \n",
              "3360979    We report on measurements of the angular dep...              None   \n",
              "3360980    The non-linear microwave surface impedance o...              None   \n",
              "3360981    The vortex contribution to the dc field (H) ...              None   \n",
              "3360982    We show that the density of states in an ani...              None   \n",
              "3360983    The Ginzburg Landau theory for d_{x^2-y^2}-w...              None   \n",
              "\n",
              "                           categories      versions  \n",
              "0                            [hep-ph]      [v1, v2]  \n",
              "1                     [math.CO cs.CG]      [v1, v2]  \n",
              "2                    [physics.gen-ph]  [v1, v2, v3]  \n",
              "3                           [math.CO]          [v1]  \n",
              "4                   [math.CA math.FA]          [v1]  \n",
              "...                               ...           ...  \n",
              "3360979  [supr-con cond-mat.supr-con]          [v1]  \n",
              "3360980  [supr-con cond-mat.supr-con]          [v1]  \n",
              "3360981  [supr-con cond-mat.supr-con]          [v1]  \n",
              "3360982  [supr-con cond-mat.supr-con]          [v1]  \n",
              "3360983  [supr-con cond-mat.supr-con]          [v1]  \n",
              "\n",
              "[3360984 rows x 11 columns]"
            ]
          },
          "execution_count": 10,
          "metadata": {},
          "output_type": "execute_result"
        }
      ],
      "source": [
        "df"
      ]
    },
    {
      "cell_type": "code",
      "execution_count": null,
      "metadata": {
        "execution": {
          "iopub.execute_input": "2022-12-13T04:29:08.515876Z",
          "iopub.status.busy": "2022-12-13T04:29:08.515318Z",
          "iopub.status.idle": "2022-12-13T04:32:08.370862Z",
          "shell.execute_reply": "2022-12-13T04:32:08.368268Z",
          "shell.execute_reply.started": "2022-12-13T04:29:08.515833Z"
        },
        "id": "UL3J4q9jABcP"
      },
      "outputs": [],
      "source": [
        "df['abstract'] = df['abstract'].str.replace('\\n', ' ',regex=False)\n",
        "df['abstract'] = df['abstract'].str.replace('-', '',regex=False)\n",
        "df['abstract'] = df['abstract'].str.replace('_', '',regex=False)\n",
        "df['abstract'] = df['abstract'].str.replace('(', '',regex=False)\n",
        "df['abstract'] = df['abstract'].str.replace(')', '',regex=False)\n",
        "df['abstract'] = df['abstract'].str.replace('@', '',regex=False)\n",
        "df['abstract'] = df['abstract'].str.replace('#', '',regex=False)\n",
        "df['abstract'] = df['abstract'].str.replace('$', '',regex=False)\n",
        "df['abstract'] = df['abstract'].str.replace('%', '',regex=False)\n",
        "df['abstract'] = df['abstract'].str.replace('^', '',regex=False)\n",
        "df['abstract'] = df['abstract'].str.replace('&', '',regex=False)\n",
        "df['abstract'] = df['abstract'].str.replace('*', '',regex=False)\n",
        "df['abstract'] = df['abstract'].str.replace('+', '',regex=False)\n",
        "df['abstract'] = df['abstract'].str.replace('=', '',regex=False)\n",
        "df['abstract'] = df['abstract'].str.replace('?', '',regex=False)\n",
        "df['abstract'] = df['abstract'].str.replace('|', '',regex=False)\n",
        "df['abstract'] = df['abstract'].str.replace('\\\\', '',regex=False)\n",
        "df['abstract'] = df['abstract'].str.replace('/', '',regex=False)\n",
        "df['abstract'] = df['abstract'].str.replace(':', '',regex=False)\n",
        "df['abstract'] = df['abstract'].str.replace(':', '',regex=False)\n",
        "df['abstract'] = df['abstract'].str.replace('<', '',regex=False)\n",
        "df['abstract'] = df['abstract'].str.replace('>', '',regex=False)\n",
        "df['abstract'] = df['abstract'].str.replace('[', '',regex=False)\n",
        "df['abstract'] = df['abstract'].str.replace(']', '',regex=False)\n",
        "df['abstract'] = df['abstract'].str.replace('{', '',regex=False)\n",
        "df['abstract'] = df['abstract'].str.replace('}', '',regex=False)\n",
        "\n",
        "df[\"abstract\"][0]"
      ]
    },
    {
      "cell_type": "code",
      "execution_count": null,
      "metadata": {
        "execution": {
          "iopub.execute_input": "2022-12-13T04:32:08.375767Z",
          "iopub.status.busy": "2022-12-13T04:32:08.375010Z",
          "iopub.status.idle": "2022-12-13T04:32:08.384306Z",
          "shell.execute_reply": "2022-12-13T04:32:08.383243Z",
          "shell.execute_reply.started": "2022-12-13T04:32:08.375688Z"
        },
        "id": "yjb4G1MoABcQ"
      },
      "outputs": [],
      "source": [
        "#df[\"abstract\"] = df[\"title\"]+\".\"+df[\"abstract\"]"
      ]
    },
    {
      "cell_type": "code",
      "execution_count": null,
      "metadata": {
        "execution": {
          "iopub.execute_input": "2022-12-13T04:32:08.386783Z",
          "iopub.status.busy": "2022-12-13T04:32:08.386155Z",
          "iopub.status.idle": "2022-12-13T04:32:17.535231Z",
          "shell.execute_reply": "2022-12-13T04:32:17.533592Z",
          "shell.execute_reply.started": "2022-12-13T04:32:08.386744Z"
        },
        "id": "hQueJucKABcS"
      },
      "outputs": [],
      "source": [
        "df.isnull().sum()"
      ]
    },
    {
      "cell_type": "code",
      "execution_count": null,
      "metadata": {
        "execution": {
          "iopub.execute_input": "2022-12-13T04:32:17.539800Z",
          "iopub.status.busy": "2022-12-13T04:32:17.539251Z",
          "iopub.status.idle": "2022-12-13T04:32:18.818347Z",
          "shell.execute_reply": "2022-12-13T04:32:18.816667Z",
          "shell.execute_reply.started": "2022-12-13T04:32:17.539755Z"
        },
        "id": "aQboW_RAABcS"
      },
      "outputs": [],
      "source": [
        "df[\"categories\"].unique()"
      ]
    },
    {
      "cell_type": "markdown",
      "metadata": {
        "id": "pbnlOOeTABcU"
      },
      "source": []
    },
    {
      "cell_type": "code",
      "execution_count": null,
      "metadata": {
        "execution": {
          "iopub.execute_input": "2022-12-13T04:32:18.821248Z",
          "iopub.status.busy": "2022-12-13T04:32:18.820706Z",
          "iopub.status.idle": "2022-12-13T04:32:18.829144Z",
          "shell.execute_reply": "2022-12-13T04:32:18.827170Z",
          "shell.execute_reply.started": "2022-12-13T04:32:18.821199Z"
        },
        "id": "9FEeTassABcW"
      },
      "outputs": [],
      "source": [
        "df_cs = df"
      ]
    },
    {
      "cell_type": "code",
      "execution_count": null,
      "metadata": {
        "execution": {
          "iopub.execute_input": "2022-12-13T04:32:18.831255Z",
          "iopub.status.busy": "2022-12-13T04:32:18.830848Z",
          "iopub.status.idle": "2022-12-13T04:34:21.480673Z",
          "shell.execute_reply": "2022-12-13T04:34:21.479343Z",
          "shell.execute_reply.started": "2022-12-13T04:32:18.831221Z"
        },
        "id": "gjtoym_fABcX"
      },
      "outputs": [],
      "source": [
        "drop_idx = []\n",
        "for index, row in df_cs.iterrows():\n",
        "    if 'cs.CL' not in row['categories']:\n",
        "        drop_idx.append(index)\n",
        "df_cs = df_cs.drop(drop_idx).reset_index(drop=True)\n",
        "df_cs.to_csv('arxiv_cs-CL.csv', index=False)\n",
        "df_cs"
      ]
    },
    {
      "cell_type": "code",
      "execution_count": null,
      "metadata": {
        "execution": {
          "iopub.execute_input": "2022-12-13T04:34:21.483803Z",
          "iopub.status.busy": "2022-12-13T04:34:21.482598Z",
          "iopub.status.idle": "2022-12-13T04:34:21.491812Z",
          "shell.execute_reply": "2022-12-13T04:34:21.490130Z",
          "shell.execute_reply.started": "2022-12-13T04:34:21.483753Z"
        },
        "id": "FXwRNKerABcZ"
      },
      "outputs": [],
      "source": [
        "df_ph = df"
      ]
    },
    {
      "cell_type": "code",
      "execution_count": null,
      "metadata": {
        "execution": {
          "iopub.execute_input": "2022-12-13T04:34:21.494658Z",
          "iopub.status.busy": "2022-12-13T04:34:21.493864Z",
          "iopub.status.idle": "2022-12-13T04:37:10.007462Z",
          "shell.execute_reply": "2022-12-13T04:37:10.006183Z",
          "shell.execute_reply.started": "2022-12-13T04:34:21.494613Z"
        },
        "id": "lDquCsa2ABcZ"
      },
      "outputs": [],
      "source": [
        "drop_idx = []\n",
        "for index, row in df_ph.iterrows():\n",
        "    if 'ph' not in row['categories']:\n",
        "        drop_idx.append(index)\n",
        "df_ph = df_ph.drop(drop_idx).reset_index(drop=True)\n",
        "df_ph.to_csv('arxiv_ph.csv', index=False)\n",
        "df_ph"
      ]
    },
    {
      "cell_type": "code",
      "execution_count": null,
      "metadata": {
        "execution": {
          "iopub.execute_input": "2022-12-13T04:37:10.010469Z",
          "iopub.status.busy": "2022-12-13T04:37:10.009023Z",
          "iopub.status.idle": "2022-12-13T04:37:10.017779Z",
          "shell.execute_reply": "2022-12-13T04:37:10.016780Z",
          "shell.execute_reply.started": "2022-12-13T04:37:10.010424Z"
        },
        "id": "gZbNszhaABca"
      },
      "outputs": [],
      "source": [
        "df[\"abstract\"][1]"
      ]
    },
    {
      "cell_type": "code",
      "execution_count": null,
      "metadata": {
        "execution": {
          "iopub.execute_input": "2022-12-13T04:37:10.021360Z",
          "iopub.status.busy": "2022-12-13T04:37:10.020979Z",
          "iopub.status.idle": "2022-12-13T04:37:11.295143Z",
          "shell.execute_reply": "2022-12-13T04:37:11.293900Z",
          "shell.execute_reply.started": "2022-12-13T04:37:10.021326Z"
        },
        "id": "Kvi2A7SaABca"
      },
      "outputs": [],
      "source": [
        "df_math = df"
      ]
    },
    {
      "cell_type": "code",
      "execution_count": null,
      "metadata": {
        "execution": {
          "iopub.execute_input": "2022-12-13T04:37:11.298370Z",
          "iopub.status.busy": "2022-12-13T04:37:11.297802Z",
          "iopub.status.idle": "2022-12-13T04:39:47.940478Z",
          "shell.execute_reply": "2022-12-13T04:39:47.938743Z",
          "shell.execute_reply.started": "2022-12-13T04:37:11.298312Z"
        },
        "id": "w4K3rBoeABcb"
      },
      "outputs": [],
      "source": [
        "drop_idx = []\n",
        "for index, row in df_math.iterrows():\n",
        "    if 'math' not in row['categories']:\n",
        "        drop_idx.append(index)\n",
        "df_math = df_math.drop(drop_idx).reset_index(drop=True)\n",
        "df_math.to_csv('arxiv_math.csv', index=False)\n",
        "df_math"
      ]
    },
    {
      "cell_type": "code",
      "execution_count": null,
      "metadata": {
        "execution": {
          "iopub.execute_input": "2022-12-13T04:44:39.771839Z",
          "iopub.status.busy": "2022-12-13T04:44:39.770276Z",
          "iopub.status.idle": "2022-12-13T04:44:39.799006Z",
          "shell.execute_reply": "2022-12-13T04:44:39.797455Z",
          "shell.execute_reply.started": "2022-12-13T04:44:39.771774Z"
        },
        "id": "8wkPOJXrABcb"
      },
      "outputs": [],
      "source": [
        "abstract_cs = df_cs['abstract']\n",
        "abstract_df_cs = abstract_cs.to_frame(name='abstract')\n",
        "abstract_cs"
      ]
    },
    {
      "cell_type": "code",
      "execution_count": null,
      "metadata": {
        "execution": {
          "iopub.execute_input": "2022-12-13T04:44:39.998995Z",
          "iopub.status.busy": "2022-12-13T04:44:39.997598Z",
          "iopub.status.idle": "2022-12-13T04:44:40.230571Z",
          "shell.execute_reply": "2022-12-13T04:44:40.228807Z",
          "shell.execute_reply.started": "2022-12-13T04:44:39.998927Z"
        },
        "id": "iWH-aQRwABcd"
      },
      "outputs": [],
      "source": [
        "abstract_ph = df_ph['abstract']\n",
        "abstract_df_ph = abstract_ph.to_frame(name='abstract')\n",
        "abstract_ph"
      ]
    },
    {
      "cell_type": "code",
      "execution_count": null,
      "metadata": {
        "execution": {
          "iopub.execute_input": "2022-12-13T04:44:40.306790Z",
          "iopub.status.busy": "2022-12-13T04:44:40.306230Z",
          "iopub.status.idle": "2022-12-13T04:44:40.404401Z",
          "shell.execute_reply": "2022-12-13T04:44:40.402838Z",
          "shell.execute_reply.started": "2022-12-13T04:44:40.306748Z"
        },
        "id": "XE5voacYABce"
      },
      "outputs": [],
      "source": [
        "abstract_math = df_math['abstract']\n",
        "abstract_df_math = abstract_math.to_frame(name='abstract')\n",
        "abstract_math"
      ]
    },
    {
      "cell_type": "code",
      "execution_count": null,
      "metadata": {
        "execution": {
          "iopub.execute_input": "2022-12-13T04:44:58.259856Z",
          "iopub.status.busy": "2022-12-13T04:44:58.259326Z",
          "iopub.status.idle": "2022-12-13T04:44:58.267754Z",
          "shell.execute_reply": "2022-12-13T04:44:58.266033Z",
          "shell.execute_reply.started": "2022-12-13T04:44:58.259815Z"
        },
        "id": "zKBfG7sSABcf"
      },
      "outputs": [],
      "source": [
        "from sklearn.feature_extraction.text import TfidfVectorizer\n",
        "from sklearn.metrics.pairwise import cosine_similarity\n",
        "from sklearn.metrics.pairwise import linear_kernel\n",
        "from sklearn.feature_extraction.text import ENGLISH_STOP_WORDS as stop_word"
      ]
    },
    {
      "cell_type": "code",
      "execution_count": null,
      "metadata": {
        "execution": {
          "iopub.execute_input": "2022-12-13T04:45:53.279726Z",
          "iopub.status.busy": "2022-12-13T04:45:53.279199Z",
          "iopub.status.idle": "2022-12-13T04:45:58.832484Z",
          "shell.execute_reply": "2022-12-13T04:45:58.830947Z",
          "shell.execute_reply.started": "2022-12-13T04:45:53.279677Z"
        },
        "id": "qCMsIoaVABcf"
      },
      "outputs": [],
      "source": [
        "vectorizer = TfidfVectorizer(stop_words=stop_word)\n",
        "tfidf_matrix_cs = vectorizer.fit_transform(abstract_cs)\n",
        "print(tfidf_matrix_cs.shape)"
      ]
    },
    {
      "cell_type": "code",
      "execution_count": null,
      "metadata": {
        "execution": {
          "iopub.execute_input": "2022-12-13T04:46:33.266988Z",
          "iopub.status.busy": "2022-12-13T04:46:33.266352Z",
          "iopub.status.idle": "2022-12-13T04:48:30.083042Z",
          "shell.execute_reply": "2022-12-13T04:48:30.081786Z",
          "shell.execute_reply.started": "2022-12-13T04:46:33.266941Z"
        },
        "id": "OBoYk_dlABcg"
      },
      "outputs": [],
      "source": [
        "vectorizer = TfidfVectorizer(stop_words=stop_word)\n",
        "tfidf_matrix_ph = vectorizer.fit_transform(abstract_ph)\n",
        "print(tfidf_matrix_ph.shape)"
      ]
    },
    {
      "cell_type": "code",
      "execution_count": null,
      "metadata": {
        "execution": {
          "iopub.execute_input": "2022-12-13T04:48:30.086156Z",
          "iopub.status.busy": "2022-12-13T04:48:30.085474Z",
          "iopub.status.idle": "2022-12-13T04:49:27.202768Z",
          "shell.execute_reply": "2022-12-13T04:49:27.200974Z",
          "shell.execute_reply.started": "2022-12-13T04:48:30.086113Z"
        },
        "id": "rzfavWY6ABch"
      },
      "outputs": [],
      "source": [
        "vectorizer = TfidfVectorizer(stop_words=stop_word)\n",
        "tfidf_matrix_math = vectorizer.fit_transform(abstract_math)\n",
        "print(tfidf_matrix_math.shape)"
      ]
    },
    {
      "cell_type": "code",
      "execution_count": null,
      "metadata": {
        "execution": {
          "iopub.execute_input": "2022-12-13T04:50:11.004187Z",
          "iopub.status.busy": "2022-12-13T04:50:11.002178Z"
        },
        "id": "wTY1SIVuABch"
      },
      "outputs": [],
      "source": [
        "cosine_sim_linear_kernel_cs = linear_kernel(tfidf_matrix_cs, tfidf_matrix_cs)"
      ]
    },
    {
      "cell_type": "code",
      "execution_count": null,
      "metadata": {
        "execution": {
          "iopub.execute_input": "2022-12-13T02:18:59.006157Z",
          "iopub.status.busy": "2022-12-13T02:18:59.005683Z",
          "iopub.status.idle": "2022-12-13T02:18:59.019000Z",
          "shell.execute_reply": "2022-12-13T02:18:59.017684Z",
          "shell.execute_reply.started": "2022-12-13T02:18:59.006121Z"
        },
        "id": "_N5qgWbSABcj",
        "outputId": "19129126-9244-4074-b5bd-93c3dbf54ca7"
      },
      "outputs": [
        {
          "data": {
            "text/html": [
              "<div>\n",
              "<style scoped>\n",
              "    .dataframe tbody tr th:only-of-type {\n",
              "        vertical-align: middle;\n",
              "    }\n",
              "\n",
              "    .dataframe tbody tr th {\n",
              "        vertical-align: top;\n",
              "    }\n",
              "\n",
              "    .dataframe thead th {\n",
              "        text-align: right;\n",
              "    }\n",
              "</style>\n",
              "<table border=\"1\" class=\"dataframe\">\n",
              "  <thead>\n",
              "    <tr style=\"text-align: right;\">\n",
              "      <th></th>\n",
              "      <th>0</th>\n",
              "    </tr>\n",
              "  </thead>\n",
              "  <tbody>\n",
              "    <tr>\n",
              "      <th>0</th>\n",
              "      <td>1.0</td>\n",
              "    </tr>\n",
              "  </tbody>\n",
              "</table>\n",
              "</div>"
            ],
            "text/plain": [
              "     0\n",
              "0  1.0"
            ]
          },
          "execution_count": 19,
          "metadata": {},
          "output_type": "execute_result"
        }
      ],
      "source": [
        "pd.DataFrame(tfidf_matrix.toarray())"
      ]
    },
    {
      "cell_type": "code",
      "execution_count": null,
      "metadata": {
        "execution": {
          "iopub.execute_input": "2022-12-13T02:16:24.883338Z",
          "iopub.status.busy": "2022-12-13T02:16:24.882448Z",
          "iopub.status.idle": "2022-12-13T02:16:24.891587Z",
          "shell.execute_reply": "2022-12-13T02:16:24.890380Z",
          "shell.execute_reply.started": "2022-12-13T02:16:24.883292Z"
        },
        "id": "8peZU4nkABcj"
      },
      "outputs": [],
      "source": [
        "#cosine_sim = cosine_similarity(tfidf_matrix, tfidf_matrix)\n",
        "#print(cosine_sim)"
      ]
    },
    {
      "cell_type": "code",
      "execution_count": null,
      "metadata": {
        "execution": {
          "iopub.execute_input": "2022-12-13T02:17:24.886532Z",
          "iopub.status.busy": "2022-12-13T02:17:24.886060Z",
          "iopub.status.idle": "2022-12-13T02:17:24.893638Z",
          "shell.execute_reply": "2022-12-13T02:17:24.892299Z",
          "shell.execute_reply.started": "2022-12-13T02:17:24.886496Z"
        },
        "id": "O8foPeRbABck"
      },
      "outputs": [],
      "source": [
        "cosine_sim_linear_kernel = linear_kernel(tfidf_matrix, tfidf_matrix)"
      ]
    },
    {
      "cell_type": "code",
      "execution_count": null,
      "metadata": {
        "execution": {
          "iopub.execute_input": "2022-12-13T02:17:25.940914Z",
          "iopub.status.busy": "2022-12-13T02:17:25.940357Z",
          "iopub.status.idle": "2022-12-13T02:17:25.948528Z",
          "shell.execute_reply": "2022-12-13T02:17:25.946579Z",
          "shell.execute_reply.started": "2022-12-13T02:17:25.940874Z"
        },
        "id": "iDS1gLH5ABck",
        "outputId": "db78a452-4ee1-487c-cf8f-672225ee0fc6"
      },
      "outputs": [
        {
          "name": "stdout",
          "output_type": "stream",
          "text": [
            "[[1.]]\n"
          ]
        }
      ],
      "source": [
        "print(cosine_sim_linear_kernel)"
      ]
    },
    {
      "cell_type": "code",
      "execution_count": null,
      "metadata": {
        "execution": {
          "iopub.status.busy": "2022-12-13T02:16:25.040912Z",
          "iopub.status.idle": "2022-12-13T02:16:25.041328Z",
          "shell.execute_reply": "2022-12-13T02:16:25.041154Z",
          "shell.execute_reply.started": "2022-12-13T02:16:25.041136Z"
        },
        "id": "T4i-kegIABck"
      },
      "outputs": [],
      "source": [
        "from keras.preprocessing.text import Tokenizer\n",
        "from keras.preprocessing.sequence import pad_sequences\n",
        "tokenizer=Tokenizer()\n",
        "tokenizer.fit_on_texts(abstract)\n",
        "tokenized_documents=tokenizer.texts_to_sequences(abstract)\n",
        "tokenized_paded_documents=pad_sequences(tokenized_documents,maxlen=100,padding='post')\n",
        "vocab_size=len(tokenizer.word_index)+1\n",
        "print (tokenized_paded_documents[0])"
      ]
    },
    {
      "cell_type": "code",
      "execution_count": null,
      "metadata": {
        "execution": {
          "iopub.status.busy": "2022-12-13T02:16:25.042443Z",
          "iopub.status.idle": "2022-12-13T02:16:25.042869Z",
          "shell.execute_reply": "2022-12-13T02:16:25.042686Z",
          "shell.execute_reply.started": "2022-12-13T02:16:25.042635Z"
        },
        "id": "EZttB4A-ABcl"
      },
      "outputs": [],
      "source": [
        "abstract"
      ]
    },
    {
      "cell_type": "code",
      "execution_count": null,
      "metadata": {
        "execution": {
          "iopub.status.busy": "2022-12-13T02:16:25.045109Z",
          "iopub.status.idle": "2022-12-13T02:16:25.045488Z",
          "shell.execute_reply": "2022-12-13T02:16:25.045324Z",
          "shell.execute_reply.started": "2022-12-13T02:16:25.045307Z"
        },
        "id": "XMQBeaxVABcm"
      },
      "outputs": [],
      "source": [
        "documents = ['Machine learning is the study of computer algorithms that improve automatically through experience.\\\n",
        "Machine learning algorithms build a mathematical model based on sample data, known as training data.\\\n",
        "The discipline of machine learning employs various approaches to teach computers to accomplish tasks \\\n",
        "where no fully satisfactory algorithm is available.',\n",
        "'Machine learning is closely related to computational statistics, which focuses on making predictions using computers.\\\n",
        "The study of mathematical optimization delivers methods, theory and application domains to the field of machine learning.',\n",
        "'Machine learning involves computers discovering how they can perform tasks without being explicitly programmed to do so. \\\n",
        "It involves computers learning from data provided so that they carry out certain tasks.',\n",
        "'Machine learning approaches are traditionally divided into three broad categories, depending on the nature of the \"signal\"\\\n",
        "or \"feedback\" available to the learning system: Supervised, Unsupervised and Reinforcement',\n",
        "'Software engineering is the systematic application of engineering approaches to the development of software.\\\n",
        "Software engineering is a computing discipline.',\n",
        "'A software engineer creates programs based on logic for the computer to execute. A software engineer has to be more concerned\\\n",
        "about the correctness of the program in all the cases. Meanwhile, a data scientist is comfortable with uncertainty and variability.\\\n",
        "Developing a machine learning application is more iterative and explorative process than software engineering.'\n",
        "]\n",
        "\n",
        "documents_df=pd.DataFrame(documents,columns=['documents'])"
      ]
    },
    {
      "cell_type": "code",
      "execution_count": null,
      "metadata": {
        "execution": {
          "iopub.status.busy": "2022-12-13T02:16:25.046609Z",
          "iopub.status.idle": "2022-12-13T02:16:25.047024Z",
          "shell.execute_reply": "2022-12-13T02:16:25.046854Z",
          "shell.execute_reply.started": "2022-12-13T02:16:25.046836Z"
        },
        "id": "goKrAwKxABcn"
      },
      "outputs": [],
      "source": [
        "stop_words_l=stopwords.words('english')\n",
        "abstract['abstract']=abstract.abstract.apply(lambda x: \" \".join(re.sub(r'[^a-zA-Z]',' ',w).lower() for w in x.split() if re.sub(r'[^a-zA-Z]',' ',w).lower() not in stop_words_l) )\n",
        "\n",
        "tfidfvectoriser=TfidfVectorizer()\n",
        "tfidfvectoriser.fit(abstract.abstract)\n",
        "tfidf_vectors=tfidfvectoriser.transform(abstract.abstract)\n",
        "\n",
        "pairwise_similarities=np.dot(tfidf_vectors,tfidf_vectors.T).toarray()\n",
        "pairwise_differences=euclidean_distances(tfidf_vectors)\n",
        "\n",
        "def most_similar(doc_id,similarity_matrix,matrix):\n",
        "    print (f'abstract: {abstract.iloc[doc_id][\"abstract\"]}')\n",
        "    print ('\\n')\n",
        "    print ('Similar abstract:')\n",
        "    if matrix=='Cosine Similarity':\n",
        "        similar_ix=np.argsort(similarity_matrix[doc_id])[::-1]\n",
        "    elif matrix=='Euclidean Distance':\n",
        "        similar_ix=np.argsort(similarity_matrix[doc_id])\n",
        "    for ix in similar_ix:\n",
        "        if ix==doc_id:\n",
        "            continue\n",
        "        print('\\n')\n",
        "        print (f'abstract: {abstract.iloc[ix][\"abstract\"]}')\n",
        "        print (f'{matrix} : {similarity_matrix[doc_id][ix]}')\n",
        "\n",
        "most_similar(0,pairwise_similarities,'Cosine Similarity')\n",
        "most_similar(0,pairwise_differences,'Euclidean Distance')\n"
      ]
    },
    {
      "cell_type": "code",
      "execution_count": null,
      "metadata": {
        "execution": {
          "iopub.status.busy": "2022-12-13T02:16:25.047991Z",
          "iopub.status.idle": "2022-12-13T02:16:25.048357Z",
          "shell.execute_reply": "2022-12-13T02:16:25.048191Z",
          "shell.execute_reply.started": "2022-12-13T02:16:25.048174Z"
        },
        "id": "pYH8VSnrABcn"
      },
      "outputs": [],
      "source": [
        "print (tfidf_vectors[0].toarray())\n",
        "print (pairwise_similarities.shape)\n",
        "print (pairwise_similarities[0][:])"
      ]
    },
    {
      "cell_type": "code",
      "execution_count": null,
      "metadata": {
        "execution": {
          "iopub.status.busy": "2022-12-13T02:16:25.049843Z",
          "iopub.status.idle": "2022-12-13T02:16:25.050226Z",
          "shell.execute_reply": "2022-12-13T02:16:25.050062Z",
          "shell.execute_reply.started": "2022-12-13T02:16:25.050044Z"
        },
        "id": "IhrJM631ABco"
      },
      "outputs": [],
      "source": [
        "most_similar(0,pairwise_similarities,'Cosine Similarity')"
      ]
    },
    {
      "cell_type": "code",
      "execution_count": null,
      "metadata": {
        "execution": {
          "iopub.status.busy": "2022-12-13T02:16:25.051357Z",
          "iopub.status.idle": "2022-12-13T02:16:25.051743Z",
          "shell.execute_reply": "2022-12-13T02:16:25.051575Z",
          "shell.execute_reply.started": "2022-12-13T02:16:25.051558Z"
        },
        "id": "GvDraxQ3ABco"
      },
      "outputs": [],
      "source": [
        "from sentence_transformers import SentenceTransformer\n",
        "sbert_model = SentenceTransformer('bert-base-nli-mean-tokens')\n",
        "\n",
        "document_embeddings = sbert_model.encode(abstract['abstract'])\n",
        "\n",
        "pairwise_similarities=cosine_similarity(document_embeddings)\n",
        "pairwise_differences=euclidean_distances(document_embeddings)\n",
        "\n",
        "most_similar(0,pairwise_similarities,'Cosine Similarity')\n",
        "most_similar(0,pairwise_differences,'Euclidean Distance')"
      ]
    }
  ],
  "metadata": {
    "kernelspec": {
      "display_name": "Python 3 (ipykernel)",
      "language": "python",
      "name": "python3"
    },
    "language_info": {
      "codemirror_mode": {
        "name": "ipython",
        "version": 3
      },
      "file_extension": ".py",
      "mimetype": "text/x-python",
      "name": "python",
      "nbconvert_exporter": "python",
      "pygments_lexer": "ipython3",
      "version": "3.9.12"
    },
    "colab": {
      "provenance": []
    }
  },
  "nbformat": 4,
  "nbformat_minor": 0
}