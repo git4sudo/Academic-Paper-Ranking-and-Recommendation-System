{
  "cells": [
    {
      "cell_type": "markdown",
      "metadata": {
        "id": "FPRkZeWHqCpR"
      },
      "source": [
        "# **MA544**\n",
        "## Academic Paper Ranking and Recommendations\n",
        "\n",
        "\n",
        "\n",
        "1.   API\n",
        "2.   Data Preprocessing\n",
        "3.   Data Analysis\n",
        "4.   Model\n",
        "5.   Final Results\n",
        "\n"
      ]
    },
    {
      "cell_type": "markdown",
      "metadata": {
        "id": "wfjk9Loasqdv"
      },
      "source": [
        "# Section 1\n",
        "\n",
        "## API"
      ]
    },
    {
      "cell_type": "code",
      "execution_count": null,
      "metadata": {
        "colab": {
          "base_uri": "https://localhost:8080/",
          "height": 73
        },
        "id": "x3Cwyi4jpf2a",
        "outputId": "dd8f6bd2-ef9c-4c57-83f8-9d08000c904b"
      },
      "outputs": [
        {
          "output_type": "display_data",
          "data": {
            "text/plain": [
              "<IPython.core.display.HTML object>"
            ],
            "text/html": [
              "\n",
              "     <input type=\"file\" id=\"files-23584bb7-d3e9-4478-9053-6124770f49c2\" name=\"files[]\" multiple disabled\n",
              "        style=\"border:none\" />\n",
              "     <output id=\"result-23584bb7-d3e9-4478-9053-6124770f49c2\">\n",
              "      Upload widget is only available when the cell has been executed in the\n",
              "      current browser session. Please rerun this cell to enable.\n",
              "      </output>\n",
              "      <script>// Copyright 2017 Google LLC\n",
              "//\n",
              "// Licensed under the Apache License, Version 2.0 (the \"License\");\n",
              "// you may not use this file except in compliance with the License.\n",
              "// You may obtain a copy of the License at\n",
              "//\n",
              "//      http://www.apache.org/licenses/LICENSE-2.0\n",
              "//\n",
              "// Unless required by applicable law or agreed to in writing, software\n",
              "// distributed under the License is distributed on an \"AS IS\" BASIS,\n",
              "// WITHOUT WARRANTIES OR CONDITIONS OF ANY KIND, either express or implied.\n",
              "// See the License for the specific language governing permissions and\n",
              "// limitations under the License.\n",
              "\n",
              "/**\n",
              " * @fileoverview Helpers for google.colab Python module.\n",
              " */\n",
              "(function(scope) {\n",
              "function span(text, styleAttributes = {}) {\n",
              "  const element = document.createElement('span');\n",
              "  element.textContent = text;\n",
              "  for (const key of Object.keys(styleAttributes)) {\n",
              "    element.style[key] = styleAttributes[key];\n",
              "  }\n",
              "  return element;\n",
              "}\n",
              "\n",
              "// Max number of bytes which will be uploaded at a time.\n",
              "const MAX_PAYLOAD_SIZE = 100 * 1024;\n",
              "\n",
              "function _uploadFiles(inputId, outputId) {\n",
              "  const steps = uploadFilesStep(inputId, outputId);\n",
              "  const outputElement = document.getElementById(outputId);\n",
              "  // Cache steps on the outputElement to make it available for the next call\n",
              "  // to uploadFilesContinue from Python.\n",
              "  outputElement.steps = steps;\n",
              "\n",
              "  return _uploadFilesContinue(outputId);\n",
              "}\n",
              "\n",
              "// This is roughly an async generator (not supported in the browser yet),\n",
              "// where there are multiple asynchronous steps and the Python side is going\n",
              "// to poll for completion of each step.\n",
              "// This uses a Promise to block the python side on completion of each step,\n",
              "// then passes the result of the previous step as the input to the next step.\n",
              "function _uploadFilesContinue(outputId) {\n",
              "  const outputElement = document.getElementById(outputId);\n",
              "  const steps = outputElement.steps;\n",
              "\n",
              "  const next = steps.next(outputElement.lastPromiseValue);\n",
              "  return Promise.resolve(next.value.promise).then((value) => {\n",
              "    // Cache the last promise value to make it available to the next\n",
              "    // step of the generator.\n",
              "    outputElement.lastPromiseValue = value;\n",
              "    return next.value.response;\n",
              "  });\n",
              "}\n",
              "\n",
              "/**\n",
              " * Generator function which is called between each async step of the upload\n",
              " * process.\n",
              " * @param {string} inputId Element ID of the input file picker element.\n",
              " * @param {string} outputId Element ID of the output display.\n",
              " * @return {!Iterable<!Object>} Iterable of next steps.\n",
              " */\n",
              "function* uploadFilesStep(inputId, outputId) {\n",
              "  const inputElement = document.getElementById(inputId);\n",
              "  inputElement.disabled = false;\n",
              "\n",
              "  const outputElement = document.getElementById(outputId);\n",
              "  outputElement.innerHTML = '';\n",
              "\n",
              "  const pickedPromise = new Promise((resolve) => {\n",
              "    inputElement.addEventListener('change', (e) => {\n",
              "      resolve(e.target.files);\n",
              "    });\n",
              "  });\n",
              "\n",
              "  const cancel = document.createElement('button');\n",
              "  inputElement.parentElement.appendChild(cancel);\n",
              "  cancel.textContent = 'Cancel upload';\n",
              "  const cancelPromise = new Promise((resolve) => {\n",
              "    cancel.onclick = () => {\n",
              "      resolve(null);\n",
              "    };\n",
              "  });\n",
              "\n",
              "  // Wait for the user to pick the files.\n",
              "  const files = yield {\n",
              "    promise: Promise.race([pickedPromise, cancelPromise]),\n",
              "    response: {\n",
              "      action: 'starting',\n",
              "    }\n",
              "  };\n",
              "\n",
              "  cancel.remove();\n",
              "\n",
              "  // Disable the input element since further picks are not allowed.\n",
              "  inputElement.disabled = true;\n",
              "\n",
              "  if (!files) {\n",
              "    return {\n",
              "      response: {\n",
              "        action: 'complete',\n",
              "      }\n",
              "    };\n",
              "  }\n",
              "\n",
              "  for (const file of files) {\n",
              "    const li = document.createElement('li');\n",
              "    li.append(span(file.name, {fontWeight: 'bold'}));\n",
              "    li.append(span(\n",
              "        `(${file.type || 'n/a'}) - ${file.size} bytes, ` +\n",
              "        `last modified: ${\n",
              "            file.lastModifiedDate ? file.lastModifiedDate.toLocaleDateString() :\n",
              "                                    'n/a'} - `));\n",
              "    const percent = span('0% done');\n",
              "    li.appendChild(percent);\n",
              "\n",
              "    outputElement.appendChild(li);\n",
              "\n",
              "    const fileDataPromise = new Promise((resolve) => {\n",
              "      const reader = new FileReader();\n",
              "      reader.onload = (e) => {\n",
              "        resolve(e.target.result);\n",
              "      };\n",
              "      reader.readAsArrayBuffer(file);\n",
              "    });\n",
              "    // Wait for the data to be ready.\n",
              "    let fileData = yield {\n",
              "      promise: fileDataPromise,\n",
              "      response: {\n",
              "        action: 'continue',\n",
              "      }\n",
              "    };\n",
              "\n",
              "    // Use a chunked sending to avoid message size limits. See b/62115660.\n",
              "    let position = 0;\n",
              "    do {\n",
              "      const length = Math.min(fileData.byteLength - position, MAX_PAYLOAD_SIZE);\n",
              "      const chunk = new Uint8Array(fileData, position, length);\n",
              "      position += length;\n",
              "\n",
              "      const base64 = btoa(String.fromCharCode.apply(null, chunk));\n",
              "      yield {\n",
              "        response: {\n",
              "          action: 'append',\n",
              "          file: file.name,\n",
              "          data: base64,\n",
              "        },\n",
              "      };\n",
              "\n",
              "      let percentDone = fileData.byteLength === 0 ?\n",
              "          100 :\n",
              "          Math.round((position / fileData.byteLength) * 100);\n",
              "      percent.textContent = `${percentDone}% done`;\n",
              "\n",
              "    } while (position < fileData.byteLength);\n",
              "  }\n",
              "\n",
              "  // All done.\n",
              "  yield {\n",
              "    response: {\n",
              "      action: 'complete',\n",
              "    }\n",
              "  };\n",
              "}\n",
              "\n",
              "scope.google = scope.google || {};\n",
              "scope.google.colab = scope.google.colab || {};\n",
              "scope.google.colab._files = {\n",
              "  _uploadFiles,\n",
              "  _uploadFilesContinue,\n",
              "};\n",
              "})(self);\n",
              "</script> "
            ]
          },
          "metadata": {}
        },
        {
          "output_type": "stream",
          "name": "stdout",
          "text": [
            "Saving kaggle.json to kaggle.json\n"
          ]
        }
      ],
      "source": [
        "#@title Load Kaggle API (Enter kaggle API key) { display-mode: \"form\" }\n",
        "!pip install -q kaggle\n",
        "\n",
        "from google.colab import files\n",
        "\n",
        "files.upload()\n",
        "!mkdir -p ~/.kaggle\n",
        "!cp kaggle.json ~/.kaggle/\n",
        "!chmod 600 /root/.kaggle/kaggle.json"
      ]
    },
    {
      "cell_type": "code",
      "execution_count": null,
      "metadata": {
        "colab": {
          "base_uri": "https://localhost:8080/"
        },
        "id": "1sHHkcLSq-5i",
        "outputId": "a27d9bb6-ca02-4f8d-9234-499cd58cd3c4"
      },
      "outputs": [
        {
          "output_type": "stream",
          "name": "stdout",
          "text": [
            "Downloading arxiv.zip to /content\n",
            "100% 1.10G/1.10G [00:29<00:00, 35.6MB/s]\n",
            "100% 1.10G/1.10G [00:29<00:00, 40.3MB/s]\n",
            "Archive:  arxiv.zip\n",
            "  inflating: arxiv-dataset/arxiv-metadata-oai-snapshot.json  \n"
          ]
        }
      ],
      "source": [
        "#@title Download arXiv Dataset { vertical-output: false }\n",
        "!kaggle datasets download Cornell-University/arxiv\n",
        "!unzip arxiv.zip -d arxiv-dataset"
      ]
    },
    {
      "cell_type": "code",
      "execution_count": null,
      "metadata": {
        "colab": {
          "base_uri": "https://localhost:8080/"
        },
        "id": "RW94nPlursfa",
        "outputId": "894e7d53-20aa-451c-c123-e94aeecfec62"
      },
      "outputs": [
        {
          "output_type": "stream",
          "name": "stdout",
          "text": [
            "arxiv-metadata-oai-snapshot.json\n"
          ]
        }
      ],
      "source": [
        "#check if got json\n",
        "\n",
        "!ls arxiv-dataset"
      ]
    },
    {
      "cell_type": "code",
      "execution_count": null,
      "metadata": {
        "id": "Ti2HHS97sM-a"
      },
      "outputs": [],
      "source": [
        "#@title Python Imports\n",
        "import matplotlib.pyplot as plt\n",
        "import pandas as pd\n",
        "import numpy as np\n",
        "import json\n",
        "import re\n",
        "from sklearn.feature_extraction.text import TfidfVectorizer, CountVectorizer"
      ]
    },
    {
      "cell_type": "markdown",
      "metadata": {
        "id": "flYLHmd84EPS"
      },
      "source": [
        "### Dataset"
      ]
    },
    {
      "cell_type": "code",
      "execution_count": null,
      "metadata": {
        "id": "PKyoGEwd4L6e"
      },
      "outputs": [],
      "source": [
        "'''\n",
        "arVix dataset, takes tags needed from metadata. call given categories of interest (instead of calling )\n",
        "'''\n",
        "class ArVixDataset:\n",
        "  def __init__(self, file_path, tags):\n",
        "    self.file_path = file_path\n",
        "    self.tags = tags\n",
        "\n",
        "  def __call__(self, categories):\n",
        "    raw_data = {tag: [] for tag in self.tags}\n",
        "    categories = [category.lower() for category in categories]\n",
        "    with open(self.file_path, 'r') as f:\n",
        "      for line in f:\n",
        "        d = json.loads(line)\n",
        "        if d[\"categories\"].lower() in categories:\n",
        "          for key, value in raw_data.items():\n",
        "            raw_data[key] += [d[key]]\n",
        "\n",
        "    return pd.DataFrame(raw_data)"
      ]
    },
    {
      "cell_type": "code",
      "execution_count": null,
      "metadata": {
        "id": "cNrkrUzy3hLT"
      },
      "outputs": [],
      "source": [
        "arvix = ArVixDataset(\"arxiv-dataset/arxiv-metadata-oai-snapshot.json\", [\"id\", \"submitter\", \"authors\", \"title\", \"categories\", \"abstract\", \"update_date\"])\n",
        "arvix_dataset = arvix([\"hep-ph\"])"
      ]
    },
    {
      "cell_type": "code",
      "execution_count": null,
      "metadata": {
        "colab": {
          "base_uri": "https://localhost:8080/",
          "height": 424
        },
        "id": "3fszul1p99ru",
        "outputId": "41715fb0-cb28-4ec6-88a0-20303a9c9459"
      },
      "outputs": [
        {
          "output_type": "execute_result",
          "data": {
            "text/plain": [
              "                   id              submitter  \\\n",
              "0           0704.0001         Pavel Nadolsky   \n",
              "1           0704.0016                Li Tong   \n",
              "2           0704.0029           Weizhen Deng   \n",
              "3           0704.0031     Valery M. Biryukov   \n",
              "4           0704.0032  Andreu Esteban-Pretel   \n",
              "...               ...                    ...   \n",
              "78009  hep-ph/9912547       Martin McDermott   \n",
              "78010  hep-ph/9912548           Juerg Gasser   \n",
              "78011  hep-ph/9912549       Petre Golumbeanu   \n",
              "78012  hep-ph/9912551         Thomas Teubner   \n",
              "78013  hep-ph/9912553           Neil Russell   \n",
              "\n",
              "                                                 authors  \\\n",
              "0      C. Bal\\'azs, E. L. Berger, P. M. Nadolsky, C.-...   \n",
              "1      Chao-Hsi Chang, Tong Li, Xue-Qian Li and Yu-Mi...   \n",
              "2              Zhan Shu, Xiao-Lin Chen and Wei-Zhen Deng   \n",
              "3                       V. M. Biryukov (Serpukhov, IHEP)   \n",
              "4       A. Esteban-Pretel, R. Tom\\`as and J. W. F. Valle   \n",
              "...                                                  ...   \n",
              "78009  M. McDermott, L. Frankfurt, V. Guzey, M. Strikman   \n",
              "78010                                          J. Gasser   \n",
              "78011                    P. Golumbeanu and C. Rosenzweig   \n",
              "78012            A.D. Martin, M.G. Ryskin and T. Teubner   \n",
              "78013                                       Neil Russell   \n",
              "\n",
              "                                                   title categories  \\\n",
              "0      Calculation of prompt diphoton production cros...     hep-ph   \n",
              "1                     Lifetime of doubly charmed baryons     hep-ph   \n",
              "2      Understanding the Flavor Symmetry Breaking and...     hep-ph   \n",
              "3      Crystal channeling of LHC forward protons with...     hep-ph   \n",
              "4      Probing non-standard neutrino interactions wit...     hep-ph   \n",
              "...                                                  ...        ...   \n",
              "78009      Unitarity and the QCD-improved dipole picture     hep-ph   \n",
              "78010                         Chiral perturbation theory     hep-ph   \n",
              "78011  Escape of Superheated Upsilons from the Quark ...     hep-ph   \n",
              "78012  Q^2 dependence of diffractive vector meson ele...     hep-ph   \n",
              "78013  Bounding CPT- and Lorentz-Violating Parameters...     hep-ph   \n",
              "\n",
              "                                                abstract update_date  \n",
              "0        A fully differential calculation in perturba...  2008-11-26  \n",
              "1        In this work, we evaluate the lifetimes of t...  2008-12-18  \n",
              "2        In $\\XQM$, a quark can emit Goldstone bosons...  2010-04-23  \n",
              "3        We show that crystal can trap a broad (x, x'...  2008-11-26  \n",
              "4        We analyze the possibility of probing non-st...  2008-11-26  \n",
              "...                                                  ...         ...  \n",
              "78009    As a consequence of QCD factorization theore...  2011-09-13  \n",
              "78010    I present an outline of chiral perturbation ...  2008-11-26  \n",
              "78011    The properties of heavy quark systems change...  2007-05-23  \n",
              "78012    We give a general formula for the cross sect...  2008-11-26  \n",
              "78013    A general theoretical framework that incorpo...  2007-05-23  \n",
              "\n",
              "[78014 rows x 7 columns]"
            ],
            "text/html": [
              "\n",
              "  <div id=\"df-ebaaf229-cc4a-480b-839d-879ba98612cb\">\n",
              "    <div class=\"colab-df-container\">\n",
              "      <div>\n",
              "<style scoped>\n",
              "    .dataframe tbody tr th:only-of-type {\n",
              "        vertical-align: middle;\n",
              "    }\n",
              "\n",
              "    .dataframe tbody tr th {\n",
              "        vertical-align: top;\n",
              "    }\n",
              "\n",
              "    .dataframe thead th {\n",
              "        text-align: right;\n",
              "    }\n",
              "</style>\n",
              "<table border=\"1\" class=\"dataframe\">\n",
              "  <thead>\n",
              "    <tr style=\"text-align: right;\">\n",
              "      <th></th>\n",
              "      <th>id</th>\n",
              "      <th>submitter</th>\n",
              "      <th>authors</th>\n",
              "      <th>title</th>\n",
              "      <th>categories</th>\n",
              "      <th>abstract</th>\n",
              "      <th>update_date</th>\n",
              "    </tr>\n",
              "  </thead>\n",
              "  <tbody>\n",
              "    <tr>\n",
              "      <th>0</th>\n",
              "      <td>0704.0001</td>\n",
              "      <td>Pavel Nadolsky</td>\n",
              "      <td>C. Bal\\'azs, E. L. Berger, P. M. Nadolsky, C.-...</td>\n",
              "      <td>Calculation of prompt diphoton production cros...</td>\n",
              "      <td>hep-ph</td>\n",
              "      <td>A fully differential calculation in perturba...</td>\n",
              "      <td>2008-11-26</td>\n",
              "    </tr>\n",
              "    <tr>\n",
              "      <th>1</th>\n",
              "      <td>0704.0016</td>\n",
              "      <td>Li Tong</td>\n",
              "      <td>Chao-Hsi Chang, Tong Li, Xue-Qian Li and Yu-Mi...</td>\n",
              "      <td>Lifetime of doubly charmed baryons</td>\n",
              "      <td>hep-ph</td>\n",
              "      <td>In this work, we evaluate the lifetimes of t...</td>\n",
              "      <td>2008-12-18</td>\n",
              "    </tr>\n",
              "    <tr>\n",
              "      <th>2</th>\n",
              "      <td>0704.0029</td>\n",
              "      <td>Weizhen Deng</td>\n",
              "      <td>Zhan Shu, Xiao-Lin Chen and Wei-Zhen Deng</td>\n",
              "      <td>Understanding the Flavor Symmetry Breaking and...</td>\n",
              "      <td>hep-ph</td>\n",
              "      <td>In $\\XQM$, a quark can emit Goldstone bosons...</td>\n",
              "      <td>2010-04-23</td>\n",
              "    </tr>\n",
              "    <tr>\n",
              "      <th>3</th>\n",
              "      <td>0704.0031</td>\n",
              "      <td>Valery M. Biryukov</td>\n",
              "      <td>V. M. Biryukov (Serpukhov, IHEP)</td>\n",
              "      <td>Crystal channeling of LHC forward protons with...</td>\n",
              "      <td>hep-ph</td>\n",
              "      <td>We show that crystal can trap a broad (x, x'...</td>\n",
              "      <td>2008-11-26</td>\n",
              "    </tr>\n",
              "    <tr>\n",
              "      <th>4</th>\n",
              "      <td>0704.0032</td>\n",
              "      <td>Andreu Esteban-Pretel</td>\n",
              "      <td>A. Esteban-Pretel, R. Tom\\`as and J. W. F. Valle</td>\n",
              "      <td>Probing non-standard neutrino interactions wit...</td>\n",
              "      <td>hep-ph</td>\n",
              "      <td>We analyze the possibility of probing non-st...</td>\n",
              "      <td>2008-11-26</td>\n",
              "    </tr>\n",
              "    <tr>\n",
              "      <th>...</th>\n",
              "      <td>...</td>\n",
              "      <td>...</td>\n",
              "      <td>...</td>\n",
              "      <td>...</td>\n",
              "      <td>...</td>\n",
              "      <td>...</td>\n",
              "      <td>...</td>\n",
              "    </tr>\n",
              "    <tr>\n",
              "      <th>78009</th>\n",
              "      <td>hep-ph/9912547</td>\n",
              "      <td>Martin McDermott</td>\n",
              "      <td>M. McDermott, L. Frankfurt, V. Guzey, M. Strikman</td>\n",
              "      <td>Unitarity and the QCD-improved dipole picture</td>\n",
              "      <td>hep-ph</td>\n",
              "      <td>As a consequence of QCD factorization theore...</td>\n",
              "      <td>2011-09-13</td>\n",
              "    </tr>\n",
              "    <tr>\n",
              "      <th>78010</th>\n",
              "      <td>hep-ph/9912548</td>\n",
              "      <td>Juerg Gasser</td>\n",
              "      <td>J. Gasser</td>\n",
              "      <td>Chiral perturbation theory</td>\n",
              "      <td>hep-ph</td>\n",
              "      <td>I present an outline of chiral perturbation ...</td>\n",
              "      <td>2008-11-26</td>\n",
              "    </tr>\n",
              "    <tr>\n",
              "      <th>78011</th>\n",
              "      <td>hep-ph/9912549</td>\n",
              "      <td>Petre Golumbeanu</td>\n",
              "      <td>P. Golumbeanu and C. Rosenzweig</td>\n",
              "      <td>Escape of Superheated Upsilons from the Quark ...</td>\n",
              "      <td>hep-ph</td>\n",
              "      <td>The properties of heavy quark systems change...</td>\n",
              "      <td>2007-05-23</td>\n",
              "    </tr>\n",
              "    <tr>\n",
              "      <th>78012</th>\n",
              "      <td>hep-ph/9912551</td>\n",
              "      <td>Thomas Teubner</td>\n",
              "      <td>A.D. Martin, M.G. Ryskin and T. Teubner</td>\n",
              "      <td>Q^2 dependence of diffractive vector meson ele...</td>\n",
              "      <td>hep-ph</td>\n",
              "      <td>We give a general formula for the cross sect...</td>\n",
              "      <td>2008-11-26</td>\n",
              "    </tr>\n",
              "    <tr>\n",
              "      <th>78013</th>\n",
              "      <td>hep-ph/9912553</td>\n",
              "      <td>Neil Russell</td>\n",
              "      <td>Neil Russell</td>\n",
              "      <td>Bounding CPT- and Lorentz-Violating Parameters...</td>\n",
              "      <td>hep-ph</td>\n",
              "      <td>A general theoretical framework that incorpo...</td>\n",
              "      <td>2007-05-23</td>\n",
              "    </tr>\n",
              "  </tbody>\n",
              "</table>\n",
              "<p>78014 rows × 7 columns</p>\n",
              "</div>\n",
              "      <button class=\"colab-df-convert\" onclick=\"convertToInteractive('df-ebaaf229-cc4a-480b-839d-879ba98612cb')\"\n",
              "              title=\"Convert this dataframe to an interactive table.\"\n",
              "              style=\"display:none;\">\n",
              "        \n",
              "  <svg xmlns=\"http://www.w3.org/2000/svg\" height=\"24px\"viewBox=\"0 0 24 24\"\n",
              "       width=\"24px\">\n",
              "    <path d=\"M0 0h24v24H0V0z\" fill=\"none\"/>\n",
              "    <path d=\"M18.56 5.44l.94 2.06.94-2.06 2.06-.94-2.06-.94-.94-2.06-.94 2.06-2.06.94zm-11 1L8.5 8.5l.94-2.06 2.06-.94-2.06-.94L8.5 2.5l-.94 2.06-2.06.94zm10 10l.94 2.06.94-2.06 2.06-.94-2.06-.94-.94-2.06-.94 2.06-2.06.94z\"/><path d=\"M17.41 7.96l-1.37-1.37c-.4-.4-.92-.59-1.43-.59-.52 0-1.04.2-1.43.59L10.3 9.45l-7.72 7.72c-.78.78-.78 2.05 0 2.83L4 21.41c.39.39.9.59 1.41.59.51 0 1.02-.2 1.41-.59l7.78-7.78 2.81-2.81c.8-.78.8-2.07 0-2.86zM5.41 20L4 18.59l7.72-7.72 1.47 1.35L5.41 20z\"/>\n",
              "  </svg>\n",
              "      </button>\n",
              "      \n",
              "  <style>\n",
              "    .colab-df-container {\n",
              "      display:flex;\n",
              "      flex-wrap:wrap;\n",
              "      gap: 12px;\n",
              "    }\n",
              "\n",
              "    .colab-df-convert {\n",
              "      background-color: #E8F0FE;\n",
              "      border: none;\n",
              "      border-radius: 50%;\n",
              "      cursor: pointer;\n",
              "      display: none;\n",
              "      fill: #1967D2;\n",
              "      height: 32px;\n",
              "      padding: 0 0 0 0;\n",
              "      width: 32px;\n",
              "    }\n",
              "\n",
              "    .colab-df-convert:hover {\n",
              "      background-color: #E2EBFA;\n",
              "      box-shadow: 0px 1px 2px rgba(60, 64, 67, 0.3), 0px 1px 3px 1px rgba(60, 64, 67, 0.15);\n",
              "      fill: #174EA6;\n",
              "    }\n",
              "\n",
              "    [theme=dark] .colab-df-convert {\n",
              "      background-color: #3B4455;\n",
              "      fill: #D2E3FC;\n",
              "    }\n",
              "\n",
              "    [theme=dark] .colab-df-convert:hover {\n",
              "      background-color: #434B5C;\n",
              "      box-shadow: 0px 1px 3px 1px rgba(0, 0, 0, 0.15);\n",
              "      filter: drop-shadow(0px 1px 2px rgba(0, 0, 0, 0.3));\n",
              "      fill: #FFFFFF;\n",
              "    }\n",
              "  </style>\n",
              "\n",
              "      <script>\n",
              "        const buttonEl =\n",
              "          document.querySelector('#df-ebaaf229-cc4a-480b-839d-879ba98612cb button.colab-df-convert');\n",
              "        buttonEl.style.display =\n",
              "          google.colab.kernel.accessAllowed ? 'block' : 'none';\n",
              "\n",
              "        async function convertToInteractive(key) {\n",
              "          const element = document.querySelector('#df-ebaaf229-cc4a-480b-839d-879ba98612cb');\n",
              "          const dataTable =\n",
              "            await google.colab.kernel.invokeFunction('convertToInteractive',\n",
              "                                                     [key], {});\n",
              "          if (!dataTable) return;\n",
              "\n",
              "          const docLinkHtml = 'Like what you see? Visit the ' +\n",
              "            '<a target=\"_blank\" href=https://colab.research.google.com/notebooks/data_table.ipynb>data table notebook</a>'\n",
              "            + ' to learn more about interactive tables.';\n",
              "          element.innerHTML = '';\n",
              "          dataTable['output_type'] = 'display_data';\n",
              "          await google.colab.output.renderOutput(dataTable, element);\n",
              "          const docLink = document.createElement('div');\n",
              "          docLink.innerHTML = docLinkHtml;\n",
              "          element.appendChild(docLink);\n",
              "        }\n",
              "      </script>\n",
              "    </div>\n",
              "  </div>\n",
              "  "
            ]
          },
          "metadata": {},
          "execution_count": 7
        }
      ],
      "source": [
        "arvix_dataset"
      ]
    },
    {
      "cell_type": "code",
      "execution_count": null,
      "metadata": {
        "colab": {
          "base_uri": "https://localhost:8080/"
        },
        "id": "gYfbajDZNxgd",
        "outputId": "26d2edc6-a9a6-4e03-937b-258244f05526"
      },
      "outputs": [
        {
          "output_type": "stream",
          "name": "stdout",
          "text": [
            "<class 'pandas.core.frame.DataFrame'>\n",
            "RangeIndex: 78014 entries, 0 to 78013\n",
            "Data columns (total 7 columns):\n",
            " #   Column       Non-Null Count  Dtype \n",
            "---  ------       --------------  ----- \n",
            " 0   id           78014 non-null  object\n",
            " 1   submitter    74402 non-null  object\n",
            " 2   authors      78014 non-null  object\n",
            " 3   title        78014 non-null  object\n",
            " 4   categories   78014 non-null  object\n",
            " 5   abstract     78014 non-null  object\n",
            " 6   update_date  78014 non-null  object\n",
            "dtypes: object(7)\n",
            "memory usage: 4.2+ MB\n"
          ]
        }
      ],
      "source": [
        "arvix_dataset.info()"
      ]
    },
    {
      "cell_type": "code",
      "source": [
        "#convert date from string to datetime\n",
        "arvix_dataset[\"update_date\"] = pd.to_datetime(arvix_dataset[\"update_date\"])"
      ],
      "metadata": {
        "id": "cuMd3YxAQEBR"
      },
      "execution_count": null,
      "outputs": []
    },
    {
      "cell_type": "code",
      "source": [
        "arvix_dataset.sort_values(by='update_date')"
      ],
      "metadata": {
        "colab": {
          "base_uri": "https://localhost:8080/",
          "height": 424
        },
        "id": "kCvo87f5P488",
        "outputId": "5ee07867-3f56-4c50-ba37-2745d75d1787"
      },
      "execution_count": null,
      "outputs": [
        {
          "output_type": "execute_result",
          "data": {
            "text/plain": [
              "                   id           submitter  \\\n",
              "78013  hep-ph/9912553        Neil Russell   \n",
              "43498  hep-ph/0111257         Honggong Wu   \n",
              "58467  hep-ph/0611044  Redamy Perez Ramos   \n",
              "43499  hep-ph/0111258   J. F. de Troconiz   \n",
              "43505  hep-ph/0111265         Helmut Satz   \n",
              "...               ...                 ...   \n",
              "37746      2211.11510     Hesham El Faham   \n",
              "37764      2211.13013          Anil Thapa   \n",
              "37659      2211.06270     Dmitry Gorbunov   \n",
              "36537      2205.03617        Seokhoon Yun   \n",
              "37443      2210.01994       Xiao-Yun Wang   \n",
              "\n",
              "                                        authors  \\\n",
              "78013                              Neil Russell   \n",
              "43498                                  H. G. Wu   \n",
              "58467                        Redamy Perez Ramos   \n",
              "43499  J. F. de Troc\\'oniz and F. J. Yndur\\'ain   \n",
              "43505                                   H. Satz   \n",
              "...                                         ...   \n",
              "37746                           Hesham El Faham   \n",
              "37764      Julian Heeck, Jan Heisig, Anil Thapa   \n",
              "37659       Dmitry Gorbunov, Dmitry Kalashnikov   \n",
              "36537               Eung Jin Chun, Seokhoon Yun   \n",
              "37443  Xiao-Yun Wang, Jingxuan Bu, Fancong Zeng   \n",
              "\n",
              "                                                   title categories  \\\n",
              "78013  Bounding CPT- and Lorentz-Violating Parameters...     hep-ph   \n",
              "43498  Fieldbus Device Drivers for Accelerator Contro...     hep-ph   \n",
              "58467  Hadronic distributions and correlations at \"sm...     hep-ph   \n",
              "43499  Precision Determination of the Muon $g_{\\mu}-2...     hep-ph   \n",
              "43505                Matter & More in Nuclear Collisions     hep-ph   \n",
              "...                                                  ...        ...   \n",
              "37746  Complete study of four top quark production at...     hep-ph   \n",
              "37764  Dark matter and radiative neutrino masses in c...     hep-ph   \n",
              "37659  Probing light exotics from a hidden sector at ...     hep-ph   \n",
              "36537  Particle dispersion in the classical vector da...     hep-ph   \n",
              "37443  Analysis of the contribution of quantum anomal...     hep-ph   \n",
              "\n",
              "                                                abstract update_date  \n",
              "78013    A general theoretical framework that incorpo...  2007-05-23  \n",
              "43498    In order to interface the DESY fieldbus adap...  2007-05-23  \n",
              "58467    We exactely calculate the inclusive transver...  2007-05-23  \n",
              "43499    We present a summary of the results of two r...  2007-05-23  \n",
              "43505    The aim of high energy nuclear collisions is...  2007-05-23  \n",
              "...                                                  ...         ...  \n",
              "37746    We present a study of four top quark product...  2022-11-24  \n",
              "37764    The scotogenic model generates Majorana neut...  2022-11-24  \n",
              "37659    Future $c$-$\\tau$ factories are natural plac...  2022-11-24  \n",
              "36537    Interactions with a background medium modify...  2022-11-24  \n",
              "37443    Inspired by the recent Hall C and GlueX meas...  2022-11-24  \n",
              "\n",
              "[78014 rows x 7 columns]"
            ],
            "text/html": [
              "\n",
              "  <div id=\"df-c53929da-5611-47e7-ba2e-ad5fe8f1c791\">\n",
              "    <div class=\"colab-df-container\">\n",
              "      <div>\n",
              "<style scoped>\n",
              "    .dataframe tbody tr th:only-of-type {\n",
              "        vertical-align: middle;\n",
              "    }\n",
              "\n",
              "    .dataframe tbody tr th {\n",
              "        vertical-align: top;\n",
              "    }\n",
              "\n",
              "    .dataframe thead th {\n",
              "        text-align: right;\n",
              "    }\n",
              "</style>\n",
              "<table border=\"1\" class=\"dataframe\">\n",
              "  <thead>\n",
              "    <tr style=\"text-align: right;\">\n",
              "      <th></th>\n",
              "      <th>id</th>\n",
              "      <th>submitter</th>\n",
              "      <th>authors</th>\n",
              "      <th>title</th>\n",
              "      <th>categories</th>\n",
              "      <th>abstract</th>\n",
              "      <th>update_date</th>\n",
              "    </tr>\n",
              "  </thead>\n",
              "  <tbody>\n",
              "    <tr>\n",
              "      <th>78013</th>\n",
              "      <td>hep-ph/9912553</td>\n",
              "      <td>Neil Russell</td>\n",
              "      <td>Neil Russell</td>\n",
              "      <td>Bounding CPT- and Lorentz-Violating Parameters...</td>\n",
              "      <td>hep-ph</td>\n",
              "      <td>A general theoretical framework that incorpo...</td>\n",
              "      <td>2007-05-23</td>\n",
              "    </tr>\n",
              "    <tr>\n",
              "      <th>43498</th>\n",
              "      <td>hep-ph/0111257</td>\n",
              "      <td>Honggong Wu</td>\n",
              "      <td>H. G. Wu</td>\n",
              "      <td>Fieldbus Device Drivers for Accelerator Contro...</td>\n",
              "      <td>hep-ph</td>\n",
              "      <td>In order to interface the DESY fieldbus adap...</td>\n",
              "      <td>2007-05-23</td>\n",
              "    </tr>\n",
              "    <tr>\n",
              "      <th>58467</th>\n",
              "      <td>hep-ph/0611044</td>\n",
              "      <td>Redamy Perez Ramos</td>\n",
              "      <td>Redamy Perez Ramos</td>\n",
              "      <td>Hadronic distributions and correlations at \"sm...</td>\n",
              "      <td>hep-ph</td>\n",
              "      <td>We exactely calculate the inclusive transver...</td>\n",
              "      <td>2007-05-23</td>\n",
              "    </tr>\n",
              "    <tr>\n",
              "      <th>43499</th>\n",
              "      <td>hep-ph/0111258</td>\n",
              "      <td>J. F. de Troconiz</td>\n",
              "      <td>J. F. de Troc\\'oniz and F. J. Yndur\\'ain</td>\n",
              "      <td>Precision Determination of the Muon $g_{\\mu}-2...</td>\n",
              "      <td>hep-ph</td>\n",
              "      <td>We present a summary of the results of two r...</td>\n",
              "      <td>2007-05-23</td>\n",
              "    </tr>\n",
              "    <tr>\n",
              "      <th>43505</th>\n",
              "      <td>hep-ph/0111265</td>\n",
              "      <td>Helmut Satz</td>\n",
              "      <td>H. Satz</td>\n",
              "      <td>Matter &amp; More in Nuclear Collisions</td>\n",
              "      <td>hep-ph</td>\n",
              "      <td>The aim of high energy nuclear collisions is...</td>\n",
              "      <td>2007-05-23</td>\n",
              "    </tr>\n",
              "    <tr>\n",
              "      <th>...</th>\n",
              "      <td>...</td>\n",
              "      <td>...</td>\n",
              "      <td>...</td>\n",
              "      <td>...</td>\n",
              "      <td>...</td>\n",
              "      <td>...</td>\n",
              "      <td>...</td>\n",
              "    </tr>\n",
              "    <tr>\n",
              "      <th>37746</th>\n",
              "      <td>2211.11510</td>\n",
              "      <td>Hesham El Faham</td>\n",
              "      <td>Hesham El Faham</td>\n",
              "      <td>Complete study of four top quark production at...</td>\n",
              "      <td>hep-ph</td>\n",
              "      <td>We present a study of four top quark product...</td>\n",
              "      <td>2022-11-24</td>\n",
              "    </tr>\n",
              "    <tr>\n",
              "      <th>37764</th>\n",
              "      <td>2211.13013</td>\n",
              "      <td>Anil Thapa</td>\n",
              "      <td>Julian Heeck, Jan Heisig, Anil Thapa</td>\n",
              "      <td>Dark matter and radiative neutrino masses in c...</td>\n",
              "      <td>hep-ph</td>\n",
              "      <td>The scotogenic model generates Majorana neut...</td>\n",
              "      <td>2022-11-24</td>\n",
              "    </tr>\n",
              "    <tr>\n",
              "      <th>37659</th>\n",
              "      <td>2211.06270</td>\n",
              "      <td>Dmitry Gorbunov</td>\n",
              "      <td>Dmitry Gorbunov, Dmitry Kalashnikov</td>\n",
              "      <td>Probing light exotics from a hidden sector at ...</td>\n",
              "      <td>hep-ph</td>\n",
              "      <td>Future $c$-$\\tau$ factories are natural plac...</td>\n",
              "      <td>2022-11-24</td>\n",
              "    </tr>\n",
              "    <tr>\n",
              "      <th>36537</th>\n",
              "      <td>2205.03617</td>\n",
              "      <td>Seokhoon Yun</td>\n",
              "      <td>Eung Jin Chun, Seokhoon Yun</td>\n",
              "      <td>Particle dispersion in the classical vector da...</td>\n",
              "      <td>hep-ph</td>\n",
              "      <td>Interactions with a background medium modify...</td>\n",
              "      <td>2022-11-24</td>\n",
              "    </tr>\n",
              "    <tr>\n",
              "      <th>37443</th>\n",
              "      <td>2210.01994</td>\n",
              "      <td>Xiao-Yun Wang</td>\n",
              "      <td>Xiao-Yun Wang, Jingxuan Bu, Fancong Zeng</td>\n",
              "      <td>Analysis of the contribution of quantum anomal...</td>\n",
              "      <td>hep-ph</td>\n",
              "      <td>Inspired by the recent Hall C and GlueX meas...</td>\n",
              "      <td>2022-11-24</td>\n",
              "    </tr>\n",
              "  </tbody>\n",
              "</table>\n",
              "<p>78014 rows × 7 columns</p>\n",
              "</div>\n",
              "      <button class=\"colab-df-convert\" onclick=\"convertToInteractive('df-c53929da-5611-47e7-ba2e-ad5fe8f1c791')\"\n",
              "              title=\"Convert this dataframe to an interactive table.\"\n",
              "              style=\"display:none;\">\n",
              "        \n",
              "  <svg xmlns=\"http://www.w3.org/2000/svg\" height=\"24px\"viewBox=\"0 0 24 24\"\n",
              "       width=\"24px\">\n",
              "    <path d=\"M0 0h24v24H0V0z\" fill=\"none\"/>\n",
              "    <path d=\"M18.56 5.44l.94 2.06.94-2.06 2.06-.94-2.06-.94-.94-2.06-.94 2.06-2.06.94zm-11 1L8.5 8.5l.94-2.06 2.06-.94-2.06-.94L8.5 2.5l-.94 2.06-2.06.94zm10 10l.94 2.06.94-2.06 2.06-.94-2.06-.94-.94-2.06-.94 2.06-2.06.94z\"/><path d=\"M17.41 7.96l-1.37-1.37c-.4-.4-.92-.59-1.43-.59-.52 0-1.04.2-1.43.59L10.3 9.45l-7.72 7.72c-.78.78-.78 2.05 0 2.83L4 21.41c.39.39.9.59 1.41.59.51 0 1.02-.2 1.41-.59l7.78-7.78 2.81-2.81c.8-.78.8-2.07 0-2.86zM5.41 20L4 18.59l7.72-7.72 1.47 1.35L5.41 20z\"/>\n",
              "  </svg>\n",
              "      </button>\n",
              "      \n",
              "  <style>\n",
              "    .colab-df-container {\n",
              "      display:flex;\n",
              "      flex-wrap:wrap;\n",
              "      gap: 12px;\n",
              "    }\n",
              "\n",
              "    .colab-df-convert {\n",
              "      background-color: #E8F0FE;\n",
              "      border: none;\n",
              "      border-radius: 50%;\n",
              "      cursor: pointer;\n",
              "      display: none;\n",
              "      fill: #1967D2;\n",
              "      height: 32px;\n",
              "      padding: 0 0 0 0;\n",
              "      width: 32px;\n",
              "    }\n",
              "\n",
              "    .colab-df-convert:hover {\n",
              "      background-color: #E2EBFA;\n",
              "      box-shadow: 0px 1px 2px rgba(60, 64, 67, 0.3), 0px 1px 3px 1px rgba(60, 64, 67, 0.15);\n",
              "      fill: #174EA6;\n",
              "    }\n",
              "\n",
              "    [theme=dark] .colab-df-convert {\n",
              "      background-color: #3B4455;\n",
              "      fill: #D2E3FC;\n",
              "    }\n",
              "\n",
              "    [theme=dark] .colab-df-convert:hover {\n",
              "      background-color: #434B5C;\n",
              "      box-shadow: 0px 1px 3px 1px rgba(0, 0, 0, 0.15);\n",
              "      filter: drop-shadow(0px 1px 2px rgba(0, 0, 0, 0.3));\n",
              "      fill: #FFFFFF;\n",
              "    }\n",
              "  </style>\n",
              "\n",
              "      <script>\n",
              "        const buttonEl =\n",
              "          document.querySelector('#df-c53929da-5611-47e7-ba2e-ad5fe8f1c791 button.colab-df-convert');\n",
              "        buttonEl.style.display =\n",
              "          google.colab.kernel.accessAllowed ? 'block' : 'none';\n",
              "\n",
              "        async function convertToInteractive(key) {\n",
              "          const element = document.querySelector('#df-c53929da-5611-47e7-ba2e-ad5fe8f1c791');\n",
              "          const dataTable =\n",
              "            await google.colab.kernel.invokeFunction('convertToInteractive',\n",
              "                                                     [key], {});\n",
              "          if (!dataTable) return;\n",
              "\n",
              "          const docLinkHtml = 'Like what you see? Visit the ' +\n",
              "            '<a target=\"_blank\" href=https://colab.research.google.com/notebooks/data_table.ipynb>data table notebook</a>'\n",
              "            + ' to learn more about interactive tables.';\n",
              "          element.innerHTML = '';\n",
              "          dataTable['output_type'] = 'display_data';\n",
              "          await google.colab.output.renderOutput(dataTable, element);\n",
              "          const docLink = document.createElement('div');\n",
              "          docLink.innerHTML = docLinkHtml;\n",
              "          element.appendChild(docLink);\n",
              "        }\n",
              "      </script>\n",
              "    </div>\n",
              "  </div>\n",
              "  "
            ]
          },
          "metadata": {},
          "execution_count": 10
        }
      ]
    },
    {
      "cell_type": "markdown",
      "metadata": {
        "id": "NBwSlR9f9Uo9"
      },
      "source": [
        "# Section 2\n",
        "\n",
        "## Data Preprocessing"
      ]
    },
    {
      "cell_type": "code",
      "execution_count": null,
      "metadata": {
        "colab": {
          "base_uri": "https://localhost:8080/"
        },
        "id": "YOgzGBVb8-v8",
        "outputId": "3594a4ca-d121-47c5-b0fd-81ba43e38ea1"
      },
      "outputs": [
        {
          "output_type": "stream",
          "name": "stdout",
          "text": [
            "\n",
            "Abstract #0:\n",
            "\n",
            "  A fully differential calculation in perturbative quantum chromodynamics is\n",
            "presented for the production of massive photon pairs at hadron colliders. All\n",
            "next-to-leading order perturbative contributions from quark-antiquark,\n",
            "gluon-(anti)quark, and gluon-gluon subprocesses are included, as well as\n",
            "all-orders resummation of initial-state gluon radiation valid at\n",
            "next-to-next-to-leading logarithmic accuracy. The region of phase space is\n",
            "specified in which the calculation is most reliable. Good agreement is\n",
            "demonstrated with data from the Fermilab Tevatron, and predictions are made for\n",
            "more detailed tests with CDF and DO data. Predictions are shown for\n",
            "distributions of diphoton pairs produced at the energy of the Large Hadron\n",
            "Collider (LHC). Distributions of the diphoton pairs from the decay of a Higgs\n",
            "boson are contrasted with those produced from QCD processes at the LHC, showing\n",
            "that enhanced sensitivity to the signal can be obtained with judicious\n",
            "selection of events.\n",
            "\n",
            "\n",
            "\n",
            "['fully', 'differential', 'calculation', 'perturbative', 'quantum', 'chromodynamics', 'presented', 'production', 'massive', 'photon', 'pairs', 'hadron', 'colliders', 'next', 'leading', 'order', 'perturbative', 'contributions', 'quark', 'antiquark', 'gluon', 'anti', 'quark', 'gluon', 'gluon', 'subprocesses', 'included', 'well', 'orders', 'resummation', 'initial', 'state', 'gluon', 'radiation', 'valid', 'next', 'next', 'leading', 'logarithmic', 'accuracy', 'region', 'phase', 'space', 'specified', 'calculation', 'reliable', 'good', 'agreement', 'demonstrated', 'data', 'fermilab', 'tevatron', 'predictions', 'made', 'detailed', 'tests', 'cdf', 'data', 'predictions', 'shown', 'distributions', 'diphoton', 'pairs', 'produced', 'energy', 'large', 'hadron', 'collider', 'lhc', 'distributions', 'diphoton', 'pairs', 'decay', 'higgs', 'boson', 'contrasted', 'produced', 'qcd', 'processes', 'lhc', 'showing', 'enhanced', 'sensitivity', 'signal', 'obtained', 'judicious', 'selection', 'events']\n",
            "\n",
            "Abstract #1:\n",
            "\n",
            "  In this work, we evaluate the lifetimes of the doubly charmed baryons\n",
            "$\\Xi_{cc}^{+}$, $\\Xi_{cc}^{++}$ and $\\Omega_{cc}^{+}$. We carefully calculate\n",
            "the non-spectator contributions at the quark level where the Cabibbo-suppressed\n",
            "diagrams are also included. The hadronic matrix elements are evaluated in the\n",
            "simple non-relativistic harmonic oscillator model. Our numerical results are\n",
            "generally consistent with that obtained by other authors who used the diquark\n",
            "model. However, all the theoretical predictions on the lifetimes are one order\n",
            "larger than the upper limit set by the recent SELEX measurement. This\n",
            "discrepancy would be clarified by the future experiment, if more accurate\n",
            "experiment still confirms the value of the SELEX collaboration, there must be\n",
            "some unknown mechanism to be explored.\n",
            "\n",
            "\n",
            "\n",
            "['work', 'evaluate', 'lifetimes', 'doubly', 'charmed', 'baryons', 'carefully', 'calculate', 'non', 'spectator', 'contributions', 'quark', 'level', 'cabibbo', 'suppressed', 'diagrams', 'also', 'included', 'hadronic', 'matrix', 'elements', 'evaluated', 'simple', 'non', 'relativistic', 'harmonic', 'oscillator', 'model', 'numerical', 'results', 'generally', 'consistent', 'obtained', 'authors', 'used', 'diquark', 'model', 'however', 'theoretical', 'predictions', 'lifetimes', 'one', 'order', 'larger', 'upper', 'limit', 'set', 'recent', 'selex', 'measurement', 'discrepancy', 'would', 'clarified', 'future', 'experiment', 'accurate', 'experiment', 'still', 'confirms', 'value', 'selex', 'collaboration', 'must', 'unknown', 'mechanism', 'explored']\n",
            "\n",
            "Abstract #2:\n",
            "\n",
            "  In $\\XQM$, a quark can emit Goldstone bosons. The flavor symmetry breaking in\n",
            "the Goldstone boson emission process is used to intepret the nucleon\n",
            "flavor-spin structure. In this paper, we study the inner structure of\n",
            "constituent quarks implied in $\\XQM$ caused by the Goldstone boson emission\n",
            "process in nucleon. From a simplified model Hamiltonian derived from $\\XQM$,\n",
            "the intrinsic wave functions of constituent quarks are determined. Then the\n",
            "obtained transition probabilities of the emission of Goldstone boson from a\n",
            "quark can give a reasonable interpretation to the flavor symmetry breaking in\n",
            "nucleon flavor-spin structure.\n",
            "\n",
            "\n",
            "\n",
            "['quark', 'emit', 'goldstone', 'bosons', 'flavor', 'symmetry', 'breaking', 'goldstone', 'boson', 'emission', 'process', 'used', 'intepret', 'nucleon', 'flavor', 'spin', 'structure', 'paper', 'study', 'inner', 'structure', 'constituent', 'quarks', 'implied', 'caused', 'goldstone', 'boson', 'emission', 'process', 'nucleon', 'simplified', 'model', 'hamiltonian', 'derived', 'intrinsic', 'wave', 'functions', 'constituent', 'quarks', 'determined', 'obtained', 'transition', 'probabilities', 'emission', 'goldstone', 'boson', 'quark', 'give', 'reasonable', 'interpretation', 'flavor', 'symmetry', 'breaking', 'nucleon', 'flavor', 'spin', 'structure']\n"
          ]
        }
      ],
      "source": [
        "def clean_abstract(text):\n",
        "  '''\n",
        "  Returns cleaned abstract string for preparation of NLP analysis\n",
        "  Handles:\n",
        "   - newlines\n",
        "   - latex math\n",
        "   - extra whitespaces\n",
        "   - punctuation\n",
        "   - drop single letters\n",
        "   - lowercase\n",
        "   - stopwords\n",
        "  '''\n",
        "  text = re.sub(r'\\n', ' ', text)\n",
        "  text = re.sub(r'(\\$+)(?:(?!\\1)[\\s\\S])*\\1', ' ', text)\n",
        "  text = re.sub(r'[^\\w\\s]', ' ', text)\n",
        "  text = text.split(' ')\n",
        "  text = [word.lower() for word in text if len(word) > 1]\n",
        "\n",
        "  stop_words = [\"ourselves\", \"hers\", \"between\", \"yourself\", \"but\", \"again\", \"there\", \"about\", \"once\", \"during\", \"out\", \"very\", \"having\", \"with\", \"they\", \"own\", \"an\", \"be\", \"some\", \"for\", \"do\", \"its\", \"yours\", \"such\", \"into\", \"of\", \"most\", \"itself\", \"other\", \"off\", \"is\", \"s\", \"am\", \"or\", \"who\", \"as\", \"from\", \"him\", \"each\", \"the\", \"themselves\", \"until\", \"below\", \"are\", \"we\", \"these\", \"your\", \"his\", \"through\", \"don\", \"nor\", \"me\", \"were\", \"her\", \"more\", \"himself\", \"this\", \"down\", \"should\", \"our\", \"their\", \"while\", \"above\", \"both\", \"up\", \"to\", \"ours\", \"had\", \"she\", \"all\", \"no\", \"when\", \"at\", \"any\", \"before\", \"them\", \"same\", \"and\", \"been\", \"have\", \"in\", \"will\", \"on\", \"does\", \"yourselves\", \"then\", \"that\", \"because\", \"what\", \"over\", \"why\", \"so\", \"can\", \"did\", \"not\", \"now\", \"under\", \"he\", \"you\", \"herself\", \"has\", \"just\", \"where\", \"too\", \"only\", \"myself\", \"which\", \"those\", \"i\", \"after\", \"few\", \"whom\", \"t\", \"being\", \"if\", \"theirs\", \"my\", \"against\", \"a\", \"by\", \"doing\", \"it\", \"how\", \"further\", \"was\", \"here\", \"than\"]\n",
        "\n",
        "  text = [word for word in text if word not in stop_words]\n",
        "\n",
        "  return text\n",
        "\n",
        "#examples\n",
        "for i in range(3):\n",
        "  print(f\"\\nAbstract #{i}:\\n\")\n",
        "\n",
        "  print(arvix_dataset.iloc[i][\"abstract\"])\n",
        "  print(\"\\n\")\n",
        "\n",
        "  print(clean_abstract(arvix_dataset.iloc[i][\"abstract\"]))"
      ]
    },
    {
      "cell_type": "markdown",
      "source": [
        "# Section 3\n",
        "\n",
        "## Data Analysis"
      ],
      "metadata": {
        "id": "wpxs_zgUp4x5"
      }
    },
    {
      "cell_type": "code",
      "source": [
        "#Create document list-of-list\n",
        "arxiv_documents = [clean_abstract(document) for document in list(arvix_dataset['abstract'])]"
      ],
      "metadata": {
        "id": "RY47E52kqWhR"
      },
      "execution_count": null,
      "outputs": []
    },
    {
      "cell_type": "code",
      "source": [
        "avg_unq_words = [len(set(doc)) for doc in arxiv_documents]\n",
        "avg_words = [len(doc) for doc in arxiv_documents]\n",
        "avg_unq_words_ratio = [len(set(doc))/len(doc) for doc in arxiv_documents]\n",
        "total_unq_words = [item for sublist in arxiv_documents for item in sublist]\n",
        "\n",
        "print(f\"Abstract info:\\n Total Words: {len(total_unq_words)}\\n Avg. Words per Doc: {1/len(arxiv_documents)*sum(avg_words)}\\n Avg. Unique Words per Doc: {1/len(arxiv_documents)*sum(avg_unq_words)}\\n Avg. Unique Words per Doc Ratio: {1/len(arxiv_documents)*sum(avg_unq_words_ratio)}\\n\\n Total Unique Words: {len(set(total_unq_words))}\\n Total Unique Word Ratio: {len(set(total_unq_words))/len(total_unq_words)}\")"
      ],
      "metadata": {
        "colab": {
          "base_uri": "https://localhost:8080/"
        },
        "id": "KHAUhIS-rEw7",
        "outputId": "df5b6a28-fc67-484e-8cc4-35634b17fdbf"
      },
      "execution_count": null,
      "outputs": [
        {
          "output_type": "stream",
          "name": "stdout",
          "text": [
            "Abstract info:\n",
            " Total Words: 4928821\n",
            " Avg. Words per Doc: 63.178673058681774\n",
            " Avg. Unique Words per Doc: 50.06353987745789\n",
            " Avg. Unique Words per Doc Ratio: 0.8224857241828534\n",
            "\n",
            " Total Unique Words: 38563\n",
            " Total Unique Word Ratio: 0.007823980623358\n"
          ]
        }
      ]
    },
    {
      "cell_type": "code",
      "source": [
        "bin_width = 1\n",
        "plt.hist(avg_unq_words, bins=np.arange(min(avg_unq_words), max(avg_unq_words) + bin_width, bin_width))\n",
        "plt.axvline(1/len(arxiv_documents)*sum(avg_unq_words), color='b', linestyle='dashed', linewidth=1)\n",
        "\n",
        "plt.hist(avg_words, bins=np.arange(min(avg_unq_words), max(avg_unq_words) + bin_width, bin_width), alpha=0.5)\n",
        "plt.axvline(1/len(arxiv_documents)*sum(avg_words), color='orange', linestyle='dashed', linewidth=1, alpha=0.5)\n",
        "plt.title(\"Word Count per Document\")\n",
        "plt.legend(['Unique Words', 'All Words'])\n",
        "plt.show()"
      ],
      "metadata": {
        "colab": {
          "base_uri": "https://localhost:8080/",
          "height": 281
        },
        "id": "SkHx72QF6BpU",
        "outputId": "301463c8-cbe8-45b6-c2fe-6a53ea0811ba"
      },
      "execution_count": null,
      "outputs": [
        {
          "output_type": "display_data",
          "data": {
            "text/plain": [
              "<Figure size 432x288 with 1 Axes>"
            ],
            "image/png": "[encoded data removed]"
          },
          "metadata": {
            "needs_background": "light"
          }
        }
      ]
    },
    {
      "cell_type": "markdown",
      "source": [
        "From the above observations, both distributions are similar in skewness, with the unique words having a more centered distribution around 40~.\n",
        "\n"
      ],
      "metadata": {
        "id": "sjkvUKUZN0uC"
      }
    },
    {
      "cell_type": "code",
      "source": [
        "bin_width = 0.005\n",
        "plt.hist(avg_unq_words_ratio, bins=np.arange(min(avg_unq_words_ratio), max(avg_unq_words_ratio) + bin_width, bin_width))\n",
        "plt.axvline(1/len(arxiv_documents)*sum(avg_unq_words_ratio), color='r', linestyle='dashed', linewidth=1)\n",
        "plt.title(\"Unique Word Count Ratio per Document\")\n",
        "plt.show()"
      ],
      "metadata": {
        "colab": {
          "base_uri": "https://localhost:8080/",
          "height": 281
        },
        "id": "SS4Tm8_E63tq",
        "outputId": "32edc988-5589-4ec2-cbdf-ee2a932e4dc8"
      },
      "execution_count": null,
      "outputs": [
        {
          "output_type": "display_data",
          "data": {
            "text/plain": [
              "<Figure size 432x288 with 1 Axes>"
            ],
            "image/png": "[encoded data removed]"
          },
          "metadata": {
            "needs_background": "light"
          }
        }
      ]
    },
    {
      "cell_type": "code",
      "source": [
        "#analysis on documents with unique world count ratio = 1"
      ],
      "metadata": {
        "id": "fF62NM6Y8NEZ"
      },
      "execution_count": null,
      "outputs": []
    },
    {
      "cell_type": "markdown",
      "metadata": {
        "id": "p0aFTwPQsxcE"
      },
      "source": [
        "# Section 4\n",
        "## Model"
      ]
    },
    {
      "cell_type": "code",
      "execution_count": null,
      "metadata": {
        "id": "pj6KlX6Zyg0_"
      },
      "outputs": [],
      "source": [
        "class TFIDF:\n",
        "  def __init__(self):\n",
        "    self.vectorizer = CountVectorizer()\n",
        "\n",
        "  def BOW(self, documents):\n",
        "    #Returns bag-of-words of document list and the feature names\n",
        "    bow = self.vectorizer.fit_transform(documents)\n",
        "    return bow.toarray(), self.vectorizer.get_feature_names()\n",
        "\n",
        "  def TF(self, bow):\n",
        "    #Calculate term frequency for each document, word/word count in document\n",
        "    return np.apply_along_axis(lambda x: x/np.sum(x), 1, bow)\n",
        "\n",
        "  def IDF(self, bow):\n",
        "    # Calculates IDF\n",
        "    N = bow.shape[0]\n",
        "\n",
        "    # Check if word exists in document, then convert to int, and sum through all matrices to get doc. frequency\n",
        "    df = sum((bow[i]>0).astype(int) for i in range(N))\n",
        "\n",
        "    return np.log(N/df)\n",
        "\n",
        "  def __call__(self, documents):\n",
        "    #Runs whole TDIDF process\n",
        "    bow, feature_names = self.BOW(documents)\n",
        "    tf = self.TF(bow)\n",
        "    idf = self.IDF(bow)\n",
        "\n",
        "    return {\"tfidf\": tf*idf, \"features\": feature_names, \"bow\": bow}"
      ]
    },
    {
      "cell_type": "code",
      "source": [
        "TFIDF_model = TFIDF()\n",
        "\n",
        "out = TFIDF_model(arxiv_documents[:100])"
      ],
      "metadata": {
        "id": "JPCXOV0gFRCj"
      },
      "execution_count": null,
      "outputs": []
    },
    {
      "cell_type": "code",
      "source": [
        "out[\"tfidf\"].shape"
      ],
      "metadata": {
        "id": "7bQ6v_qgkoVz"
      },
      "execution_count": null,
      "outputs": []
    },
    {
      "cell_type": "markdown",
      "metadata": {
        "id": "Xpr-khN7yaQy"
      },
      "source": [
        "# Section 5\n",
        "## Query"
      ]
    },
    {
      "cell_type": "code",
      "execution_count": null,
      "metadata": {
        "id": "7_ngr7dHy4hV"
      },
      "outputs": [],
      "source": [
        "\n",
        "def query(topic=\"all\", author=\"all\", publication=\"all\", daterange=\"all\", relevance=\"all\", field=\"all\"):\n",
        "  print(topic, author, publication, daterange, relevance, field)"
      ]
    },
    {
      "cell_type": "code",
      "execution_count": null,
      "metadata": {
        "id": "qky9Vty_2WlN"
      },
      "outputs": [],
      "source": [
        "query()\n"
      ]
    },
    {
      "cell_type": "code",
      "execution_count": null,
      "metadata": {
        "id": "L5-5Ti0myd6o"
      },
      "outputs": [],
      "source": []
    }
  ],
  "metadata": {
    "colab": {
      "provenance": []
    },
    "kernelspec": {
      "display_name": "Python 3",
      "name": "python3"
    },
    "language_info": {
      "name": "python"
    }
  },
  "nbformat": 4,
  "nbformat_minor": 0
}